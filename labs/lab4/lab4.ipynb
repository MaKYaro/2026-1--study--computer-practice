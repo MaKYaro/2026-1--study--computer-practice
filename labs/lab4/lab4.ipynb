{
 "cells": [
  {
   "cell_type": "code",
   "execution_count": 1,
   "id": "8195b8fa-0239-4e0b-9e16-6c4a504ada61",
   "metadata": {},
   "outputs": [
    {
     "data": {
      "text/plain": [
       "4×3 Matrix{Int64}:\n",
       "  1   7  17\n",
       " 13  11  19\n",
       " 18  15   6\n",
       " 10  10  19"
      ]
     },
     "execution_count": 1,
     "metadata": {},
     "output_type": "execute_result"
    }
   ],
   "source": [
    "a = rand(1:20, (4,3))"
   ]
  },
  {
   "cell_type": "code",
   "execution_count": 2,
   "id": "4130eae3-a657-4f83-aefc-9b68d994d6fb",
   "metadata": {},
   "outputs": [
    {
     "data": {
      "text/plain": [
       "146"
      ]
     },
     "execution_count": 2,
     "metadata": {},
     "output_type": "execute_result"
    }
   ],
   "source": [
    "sum(a)"
   ]
  },
  {
   "cell_type": "code",
   "execution_count": 3,
   "id": "90793c07-f06f-4796-9911-b433572b1524",
   "metadata": {},
   "outputs": [
    {
     "data": {
      "text/plain": [
       "1×3 Matrix{Int64}:\n",
       " 42  43  61"
      ]
     },
     "execution_count": 3,
     "metadata": {},
     "output_type": "execute_result"
    }
   ],
   "source": [
    "sum(a, dims=1)"
   ]
  },
  {
   "cell_type": "code",
   "execution_count": 4,
   "id": "8ef0e863-2058-463a-a44e-460c4c6c8d85",
   "metadata": {},
   "outputs": [
    {
     "data": {
      "text/plain": [
       "4×1 Matrix{Int64}:\n",
       " 25\n",
       " 43\n",
       " 39\n",
       " 39"
      ]
     },
     "execution_count": 4,
     "metadata": {},
     "output_type": "execute_result"
    }
   ],
   "source": [
    "sum(a, dims=2)"
   ]
  },
  {
   "cell_type": "code",
   "execution_count": 5,
   "id": "4d314dc1-9daf-45e0-8809-4a78e14cc76d",
   "metadata": {},
   "outputs": [
    {
     "data": {
      "text/plain": [
       "995188194000"
      ]
     },
     "execution_count": 5,
     "metadata": {},
     "output_type": "execute_result"
    }
   ],
   "source": [
    "prod(a)"
   ]
  },
  {
   "cell_type": "code",
   "execution_count": 6,
   "id": "f5226f33-c481-4025-a626-52a9c7ef9a98",
   "metadata": {},
   "outputs": [
    {
     "data": {
      "text/plain": [
       "1×3 Matrix{Int64}:\n",
       " 2340  11550  36822"
      ]
     },
     "execution_count": 6,
     "metadata": {},
     "output_type": "execute_result"
    }
   ],
   "source": [
    "prod(a, dims=1)"
   ]
  },
  {
   "cell_type": "code",
   "execution_count": 7,
   "id": "90618c0a-68bf-4e03-b59a-c6898ec09e0b",
   "metadata": {},
   "outputs": [
    {
     "data": {
      "text/plain": [
       "4×1 Matrix{Int64}:\n",
       "  119\n",
       " 2717\n",
       " 1620\n",
       " 1900"
      ]
     },
     "execution_count": 7,
     "metadata": {},
     "output_type": "execute_result"
    }
   ],
   "source": [
    "prod(a, dims=2)"
   ]
  },
  {
   "cell_type": "code",
   "execution_count": 8,
   "id": "ef3c409c-2908-4447-a6a7-410a6dfccb6e",
   "metadata": {},
   "outputs": [
    {
     "name": "stderr",
     "output_type": "stream",
     "text": [
      "\u001b[32m\u001b[1m    Updating\u001b[22m\u001b[39m registry at `~/.julia/registries/General.toml`\n",
      "\u001b[32m\u001b[1m   Resolving\u001b[22m\u001b[39m package versions...\n",
      "\u001b[32m\u001b[1m    Updating\u001b[22m\u001b[39m `~/.julia/environments/v1.11/Project.toml`\n",
      "  \u001b[90m[10745b16] \u001b[39m\u001b[92m+ Statistics v1.11.1\u001b[39m\n",
      "\u001b[32m\u001b[1m  No Changes\u001b[22m\u001b[39m to `~/.julia/environments/v1.11/Manifest.toml`\n"
     ]
    }
   ],
   "source": [
    "import Pkg\n",
    "Pkg.add(\"Statistics\")"
   ]
  },
  {
   "cell_type": "code",
   "execution_count": 9,
   "id": "53313ea6-a2a7-477f-9cda-02ebe5eac9cb",
   "metadata": {},
   "outputs": [],
   "source": [
    "using Statistics"
   ]
  },
  {
   "cell_type": "code",
   "execution_count": 10,
   "id": "b84243f5-2943-4fa5-8f5a-af448f6d689a",
   "metadata": {},
   "outputs": [
    {
     "data": {
      "text/plain": [
       "12.166666666666666"
      ]
     },
     "execution_count": 10,
     "metadata": {},
     "output_type": "execute_result"
    }
   ],
   "source": [
    "mean(a)"
   ]
  },
  {
   "cell_type": "code",
   "execution_count": 11,
   "id": "395ffcd8-32c0-4a4e-8033-4921f2fb1a18",
   "metadata": {},
   "outputs": [
    {
     "data": {
      "text/plain": [
       "1×3 Matrix{Float64}:\n",
       " 10.5  10.75  15.25"
      ]
     },
     "execution_count": 11,
     "metadata": {},
     "output_type": "execute_result"
    }
   ],
   "source": [
    "mean(a, dims=1)"
   ]
  },
  {
   "cell_type": "code",
   "execution_count": 12,
   "id": "b3bb8878-1ec2-44e4-b723-916b849c68c7",
   "metadata": {},
   "outputs": [
    {
     "data": {
      "text/plain": [
       "4×1 Matrix{Float64}:\n",
       "  8.333333333333334\n",
       " 14.333333333333334\n",
       " 13.0\n",
       " 13.0"
      ]
     },
     "execution_count": 12,
     "metadata": {},
     "output_type": "execute_result"
    }
   ],
   "source": [
    "mean(a, dims=2)"
   ]
  },
  {
   "cell_type": "code",
   "execution_count": 13,
   "id": "f028b4e5-5190-4f15-bd15-8f28821c5995",
   "metadata": {},
   "outputs": [
    {
     "name": "stderr",
     "output_type": "stream",
     "text": [
      "\u001b[32m\u001b[1m   Resolving\u001b[22m\u001b[39m package versions...\n",
      "\u001b[32m\u001b[1m    Updating\u001b[22m\u001b[39m `~/.julia/environments/v1.11/Project.toml`\n",
      "  \u001b[90m[37e2e46d] \u001b[39m\u001b[92m+ LinearAlgebra v1.11.0\u001b[39m\n",
      "\u001b[32m\u001b[1m  No Changes\u001b[22m\u001b[39m to `~/.julia/environments/v1.11/Manifest.toml`\n"
     ]
    }
   ],
   "source": [
    "import Pkg\n",
    "Pkg.add(\"LinearAlgebra\")"
   ]
  },
  {
   "cell_type": "code",
   "execution_count": 14,
   "id": "e9f6ec4b-0fab-449d-b98e-c5b91f897fdf",
   "metadata": {},
   "outputs": [],
   "source": [
    "using LinearAlgebra"
   ]
  },
  {
   "cell_type": "code",
   "execution_count": 15,
   "id": "5cb5a26a-b335-406a-8db6-29ca2a598bdd",
   "metadata": {},
   "outputs": [
    {
     "data": {
      "text/plain": [
       "4×4 Matrix{Int64}:\n",
       " 12  1  15  11\n",
       "  5  1   1   4\n",
       " 13  9   9  12\n",
       "  7  4   7   5"
      ]
     },
     "execution_count": 15,
     "metadata": {},
     "output_type": "execute_result"
    }
   ],
   "source": [
    "b = rand(1:20, (4,4))"
   ]
  },
  {
   "cell_type": "code",
   "execution_count": 16,
   "id": "efbf85c0-ff7d-47b1-9678-137b7d19133c",
   "metadata": {},
   "outputs": [
    {
     "data": {
      "text/plain": [
       "4×4 transpose(::Matrix{Int64}) with eltype Int64:\n",
       " 12  5  13  7\n",
       "  1  1   9  4\n",
       " 15  1   9  7\n",
       " 11  4  12  5"
      ]
     },
     "execution_count": 16,
     "metadata": {},
     "output_type": "execute_result"
    }
   ],
   "source": [
    "transpose(b)"
   ]
  },
  {
   "cell_type": "code",
   "execution_count": 17,
   "id": "f270ce62-52f9-4291-9ea1-f33def9edfa0",
   "metadata": {},
   "outputs": [
    {
     "data": {
      "text/plain": [
       "27"
      ]
     },
     "execution_count": 17,
     "metadata": {},
     "output_type": "execute_result"
    }
   ],
   "source": [
    "tr(b)"
   ]
  },
  {
   "cell_type": "code",
   "execution_count": 18,
   "id": "2cca9152-dea5-4af1-963f-0ad91a1d3e9b",
   "metadata": {},
   "outputs": [
    {
     "data": {
      "text/plain": [
       "4-element Vector{Int64}:\n",
       " 12\n",
       "  1\n",
       "  9\n",
       "  5"
      ]
     },
     "execution_count": 18,
     "metadata": {},
     "output_type": "execute_result"
    }
   ],
   "source": [
    "diag(b)"
   ]
  },
  {
   "cell_type": "code",
   "execution_count": 19,
   "id": "c76c0c93-7002-4007-8e6b-850152b7f8d6",
   "metadata": {},
   "outputs": [
    {
     "data": {
      "text/plain": [
       "4"
      ]
     },
     "execution_count": 19,
     "metadata": {},
     "output_type": "execute_result"
    }
   ],
   "source": [
    "rank(b)"
   ]
  },
  {
   "cell_type": "code",
   "execution_count": 20,
   "id": "de37b0ef-d711-4396-9b9b-d94cd6c9bd4d",
   "metadata": {},
   "outputs": [
    {
     "data": {
      "text/plain": [
       "4×4 Matrix{Float64}:\n",
       " -0.0989011   0.416209  -0.240385    0.461538\n",
       " -0.0879121  -0.171703   0.105769    0.0769231\n",
       "  0.0549451  -0.18956   -0.0192308   0.0769231\n",
       "  0.131868   -0.179945   0.278846   -0.615385"
      ]
     },
     "execution_count": 20,
     "metadata": {},
     "output_type": "execute_result"
    }
   ],
   "source": [
    "inv(b)"
   ]
  },
  {
   "cell_type": "code",
   "execution_count": 21,
   "id": "2b42ea76-07a9-4d95-b43f-e23cc7bcdc9b",
   "metadata": {},
   "outputs": [
    {
     "data": {
      "text/plain": [
       "-728.0000000000006"
      ]
     },
     "execution_count": 21,
     "metadata": {},
     "output_type": "execute_result"
    }
   ],
   "source": [
    "det(b)"
   ]
  },
  {
   "cell_type": "code",
   "execution_count": 22,
   "id": "d286a19f-78b8-468a-b006-0abf3f87d49f",
   "metadata": {},
   "outputs": [
    {
     "data": {
      "text/plain": [
       "3×4 Matrix{Float64}:\n",
       " -0.149505    0.10118   -0.0331293   0.0430493\n",
       "  0.183742   -0.138281   0.126337   -0.0660156\n",
       " -0.0102132   0.044137  -0.0498511   0.0333752"
      ]
     },
     "execution_count": 22,
     "metadata": {},
     "output_type": "execute_result"
    }
   ],
   "source": [
    "pinv(a)"
   ]
  },
  {
   "cell_type": "code",
   "execution_count": 23,
   "id": "bef179a8-6d65-40bf-bb64-ebe1750a8183",
   "metadata": {},
   "outputs": [
    {
     "data": {
      "text/plain": [
       "3-element Vector{Int64}:\n",
       "  2\n",
       "  4\n",
       " -5"
      ]
     },
     "execution_count": 23,
     "metadata": {},
     "output_type": "execute_result"
    }
   ],
   "source": [
    "X = [2, 4, -5]"
   ]
  },
  {
   "cell_type": "code",
   "execution_count": 24,
   "id": "cc43bb4c-9bb2-4701-ab22-62b0dd88f59b",
   "metadata": {},
   "outputs": [
    {
     "data": {
      "text/plain": [
       "6.708203932499369"
      ]
     },
     "execution_count": 24,
     "metadata": {},
     "output_type": "execute_result"
    }
   ],
   "source": [
    "norm(X)"
   ]
  },
  {
   "cell_type": "code",
   "execution_count": 25,
   "id": "8b1963fb-875c-43e2-8798-c441c6f37c50",
   "metadata": {},
   "outputs": [
    {
     "data": {
      "text/plain": [
       "1"
      ]
     },
     "execution_count": 25,
     "metadata": {},
     "output_type": "execute_result"
    }
   ],
   "source": [
    "p = 1"
   ]
  },
  {
   "cell_type": "code",
   "execution_count": 26,
   "id": "b260bf90-890b-4580-bb99-704f2ba7f2cf",
   "metadata": {},
   "outputs": [
    {
     "data": {
      "text/plain": [
       "11.0"
      ]
     },
     "execution_count": 26,
     "metadata": {},
     "output_type": "execute_result"
    }
   ],
   "source": [
    "norm(X, p)"
   ]
  },
  {
   "cell_type": "code",
   "execution_count": 27,
   "id": "688708dd-304c-426d-bb99-d7948c807bbe",
   "metadata": {},
   "outputs": [
    {
     "data": {
      "text/plain": [
       "3-element Vector{Int64}:\n",
       "  1\n",
       " -1\n",
       "  3"
      ]
     },
     "execution_count": 27,
     "metadata": {},
     "output_type": "execute_result"
    }
   ],
   "source": [
    "X = [2, 4, -5]\n",
    "Y = [1, -1, 3]"
   ]
  },
  {
   "cell_type": "code",
   "execution_count": 28,
   "id": "e525041b-4d5b-47db-8364-93e6cc9d1757",
   "metadata": {},
   "outputs": [
    {
     "data": {
      "text/plain": [
       "9.486832980505138"
      ]
     },
     "execution_count": 28,
     "metadata": {},
     "output_type": "execute_result"
    }
   ],
   "source": [
    "norm(X-Y)"
   ]
  },
  {
   "cell_type": "code",
   "execution_count": 29,
   "id": "dfc19078-37c5-49bc-b450-4711b5f91760",
   "metadata": {},
   "outputs": [
    {
     "data": {
      "text/plain": [
       "9.486832980505138"
      ]
     },
     "execution_count": 29,
     "metadata": {},
     "output_type": "execute_result"
    }
   ],
   "source": [
    "sqrt(sum((X-Y).^2))"
   ]
  },
  {
   "cell_type": "code",
   "execution_count": 30,
   "id": "e7d25960-7415-4259-a051-b4398ecc374b",
   "metadata": {},
   "outputs": [
    {
     "data": {
      "text/plain": [
       "2.4404307889469252"
      ]
     },
     "execution_count": 30,
     "metadata": {},
     "output_type": "execute_result"
    }
   ],
   "source": [
    "acos((transpose(X)*Y)/(norm(X)*norm(Y)))"
   ]
  },
  {
   "cell_type": "code",
   "execution_count": 31,
   "id": "5af4a4f8-9dc7-4dc0-bd2a-d55edc7d86bc",
   "metadata": {},
   "outputs": [
    {
     "data": {
      "text/plain": [
       "3×3 Matrix{Int64}:\n",
       "  5  -4  2\n",
       " -1   2  3\n",
       " -2   1  0"
      ]
     },
     "execution_count": 31,
     "metadata": {},
     "output_type": "execute_result"
    }
   ],
   "source": [
    "d = [5 -4 2; -1 2 3; -2 1 0]"
   ]
  },
  {
   "cell_type": "code",
   "execution_count": 32,
   "id": "419b28a2-d107-430c-aa94-ee800209c743",
   "metadata": {},
   "outputs": [
    {
     "data": {
      "text/plain": [
       "7.147682841795258"
      ]
     },
     "execution_count": 32,
     "metadata": {},
     "output_type": "execute_result"
    }
   ],
   "source": [
    "opnorm(d)"
   ]
  },
  {
   "cell_type": "code",
   "execution_count": 33,
   "id": "169ac102-c21f-493a-b3bd-68cc0e1d0457",
   "metadata": {},
   "outputs": [
    {
     "data": {
      "text/plain": [
       "8.0"
      ]
     },
     "execution_count": 33,
     "metadata": {},
     "output_type": "execute_result"
    }
   ],
   "source": [
    "p = 1\n",
    "opnorm(d, p)"
   ]
  },
  {
   "cell_type": "code",
   "execution_count": 35,
   "id": "1fb461bd-cee6-4a65-9b89-2380cfeb073a",
   "metadata": {},
   "outputs": [
    {
     "data": {
      "text/plain": [
       "3×3 Matrix{Int64}:\n",
       " 0   1  -2\n",
       " 3   2  -1\n",
       " 2  -4   5"
      ]
     },
     "execution_count": 35,
     "metadata": {},
     "output_type": "execute_result"
    }
   ],
   "source": [
    "rot180(d)"
   ]
  },
  {
   "cell_type": "code",
   "execution_count": 36,
   "id": "da78e3fd-5f87-49bf-9b06-40095da8b09e",
   "metadata": {},
   "outputs": [
    {
     "data": {
      "text/plain": [
       "3×3 Matrix{Int64}:\n",
       " -2   1  0\n",
       " -1   2  3\n",
       "  5  -4  2"
      ]
     },
     "execution_count": 36,
     "metadata": {},
     "output_type": "execute_result"
    }
   ],
   "source": [
    "reverse(d, dims=1)"
   ]
  },
  {
   "cell_type": "code",
   "execution_count": 37,
   "id": "3ca19444-b27b-4f4c-96e8-b99fb14e84fb",
   "metadata": {},
   "outputs": [
    {
     "data": {
      "text/plain": [
       "3×3 Matrix{Int64}:\n",
       " 2  -4   5\n",
       " 3   2  -1\n",
       " 0   1  -2"
      ]
     },
     "execution_count": 37,
     "metadata": {},
     "output_type": "execute_result"
    }
   ],
   "source": [
    "reverse(d, dims=2)"
   ]
  },
  {
   "cell_type": "code",
   "execution_count": 38,
   "id": "11543927-a8c5-4825-82f2-fc1585293368",
   "metadata": {},
   "outputs": [
    {
     "data": {
      "text/plain": [
       "2×4 Matrix{Int64}:\n",
       " 57  124  97  121\n",
       " 50   54  76   72"
      ]
     },
     "execution_count": 38,
     "metadata": {},
     "output_type": "execute_result"
    }
   ],
   "source": [
    "A = rand(1:10, (2,3))\n",
    "B = rand(1:10, (3,4))\n",
    "\n",
    "A*B"
   ]
  },
  {
   "cell_type": "code",
   "execution_count": 39,
   "id": "84ef630e-3fdf-410d-9856-610ab7fb873b",
   "metadata": {},
   "outputs": [
    {
     "data": {
      "text/plain": [
       "3×3 Matrix{Int64}:\n",
       " 1  0  0\n",
       " 0  1  0\n",
       " 0  0  1"
      ]
     },
     "execution_count": 39,
     "metadata": {},
     "output_type": "execute_result"
    }
   ],
   "source": [
    "Matrix{Int}(I, 3, 3)"
   ]
  },
  {
   "cell_type": "code",
   "execution_count": 40,
   "id": "5f0cae8e-64e3-42e9-9b61-00ee8ad1d0ae",
   "metadata": {},
   "outputs": [
    {
     "data": {
      "text/plain": [
       "-17"
      ]
     },
     "execution_count": 40,
     "metadata": {},
     "output_type": "execute_result"
    }
   ],
   "source": [
    "X = [2,4,-5]\n",
    "Y = [1,-1,3]\n",
    "dot(X,Y)"
   ]
  },
  {
   "cell_type": "code",
   "execution_count": 41,
   "id": "68826758-aee0-4803-ab66-7d9bf4a62d6c",
   "metadata": {},
   "outputs": [
    {
     "data": {
      "text/plain": [
       "-17"
      ]
     },
     "execution_count": 41,
     "metadata": {},
     "output_type": "execute_result"
    }
   ],
   "source": [
    "X'Y"
   ]
  },
  {
   "cell_type": "code",
   "execution_count": 42,
   "id": "83dd515c-842e-43bb-8ff0-12aa24295d60",
   "metadata": {},
   "outputs": [
    {
     "data": {
      "text/plain": [
       "3×3 Matrix{Float64}:\n",
       " 0.761309   0.235826  0.107526\n",
       " 0.0319393  0.444271  0.559785\n",
       " 0.986689   0.117963  0.835225"
      ]
     },
     "execution_count": 42,
     "metadata": {},
     "output_type": "execute_result"
    }
   ],
   "source": [
    "A = rand(3, 3)"
   ]
  },
  {
   "cell_type": "code",
   "execution_count": 43,
   "id": "6b4bba75-a55b-4659-bfec-0c576e913cd2",
   "metadata": {},
   "outputs": [
    {
     "data": {
      "text/plain": [
       "3-element Vector{Float64}:\n",
       " 1.0\n",
       " 1.0\n",
       " 1.0"
      ]
     },
     "execution_count": 43,
     "metadata": {},
     "output_type": "execute_result"
    }
   ],
   "source": [
    "x = fill(1.0, 3)"
   ]
  },
  {
   "cell_type": "code",
   "execution_count": 44,
   "id": "abe900d6-21d5-4508-949e-37faecd58aff",
   "metadata": {},
   "outputs": [
    {
     "data": {
      "text/plain": [
       "3-element Vector{Float64}:\n",
       " 1.1046609034825534\n",
       " 1.035994844574446\n",
       " 1.9398770738702553"
      ]
     },
     "execution_count": 44,
     "metadata": {},
     "output_type": "execute_result"
    }
   ],
   "source": [
    "b = A*x"
   ]
  },
  {
   "cell_type": "code",
   "execution_count": 45,
   "id": "17139365-f0f9-461a-a859-cb665d8347b0",
   "metadata": {},
   "outputs": [
    {
     "data": {
      "text/plain": [
       "3-element Vector{Float64}:\n",
       " 1.0\n",
       " 0.9999999999999998\n",
       " 1.0000000000000002"
      ]
     },
     "execution_count": 45,
     "metadata": {},
     "output_type": "execute_result"
    }
   ],
   "source": [
    "A\\b"
   ]
  },
  {
   "cell_type": "code",
   "execution_count": 46,
   "id": "8e3e98dd-101b-43be-8cfa-fbbd49a00dc8",
   "metadata": {},
   "outputs": [
    {
     "data": {
      "text/plain": [
       "LU{Float64, Matrix{Float64}, Vector{Int64}}\n",
       "L factor:\n",
       "3×3 Matrix{Float64}:\n",
       " 1.0        0.0       0.0\n",
       " 0.0323702  1.0       0.0\n",
       " 0.77158    0.328773  1.0\n",
       "U factor:\n",
       "3×3 Matrix{Float64}:\n",
       " 0.986689  0.117963   0.835225\n",
       " 0.0       0.440452   0.532749\n",
       " 0.0       0.0       -0.712071"
      ]
     },
     "execution_count": 46,
     "metadata": {},
     "output_type": "execute_result"
    }
   ],
   "source": [
    "Alu = lu(A)"
   ]
  },
  {
   "cell_type": "code",
   "execution_count": 47,
   "id": "821e6f4e-bf7c-4f8b-8ad3-aed3419f9272",
   "metadata": {},
   "outputs": [
    {
     "data": {
      "text/plain": [
       "3×3 Matrix{Float64}:\n",
       " 0.0  0.0  1.0\n",
       " 0.0  1.0  0.0\n",
       " 1.0  0.0  0.0"
      ]
     },
     "execution_count": 47,
     "metadata": {},
     "output_type": "execute_result"
    }
   ],
   "source": [
    "Alu.P"
   ]
  },
  {
   "cell_type": "code",
   "execution_count": 48,
   "id": "64793ebf-d3a4-4465-b26a-7f7b88fa9a37",
   "metadata": {},
   "outputs": [
    {
     "data": {
      "text/plain": [
       "3-element Vector{Int64}:\n",
       " 3\n",
       " 2\n",
       " 1"
      ]
     },
     "execution_count": 48,
     "metadata": {},
     "output_type": "execute_result"
    }
   ],
   "source": [
    "Alu.p"
   ]
  },
  {
   "cell_type": "code",
   "execution_count": 49,
   "id": "cf2ac1a7-4520-4fe2-8224-c002873b5f24",
   "metadata": {},
   "outputs": [
    {
     "data": {
      "text/plain": [
       "3×3 Matrix{Float64}:\n",
       " 1.0        0.0       0.0\n",
       " 0.0323702  1.0       0.0\n",
       " 0.77158    0.328773  1.0"
      ]
     },
     "execution_count": 49,
     "metadata": {},
     "output_type": "execute_result"
    }
   ],
   "source": [
    "Alu.L"
   ]
  },
  {
   "cell_type": "code",
   "execution_count": 50,
   "id": "6237c03c-a3d4-46d2-9f85-6977775e7242",
   "metadata": {},
   "outputs": [
    {
     "data": {
      "text/plain": [
       "3×3 Matrix{Float64}:\n",
       " 0.986689  0.117963   0.835225\n",
       " 0.0       0.440452   0.532749\n",
       " 0.0       0.0       -0.712071"
      ]
     },
     "execution_count": 50,
     "metadata": {},
     "output_type": "execute_result"
    }
   ],
   "source": [
    "Alu.U"
   ]
  },
  {
   "cell_type": "code",
   "execution_count": 51,
   "id": "8e0b5d61-7df0-48f1-89dd-24e19064c090",
   "metadata": {},
   "outputs": [
    {
     "data": {
      "text/plain": [
       "3-element Vector{Float64}:\n",
       " 1.0\n",
       " 0.9999999999999998\n",
       " 1.0000000000000002"
      ]
     },
     "execution_count": 51,
     "metadata": {},
     "output_type": "execute_result"
    }
   ],
   "source": [
    "A\\b"
   ]
  },
  {
   "cell_type": "code",
   "execution_count": 52,
   "id": "c91a7492-1bf1-4f71-88d0-02c141054727",
   "metadata": {},
   "outputs": [
    {
     "data": {
      "text/plain": [
       "3-element Vector{Float64}:\n",
       " 1.0\n",
       " 0.9999999999999998\n",
       " 1.0000000000000002"
      ]
     },
     "execution_count": 52,
     "metadata": {},
     "output_type": "execute_result"
    }
   ],
   "source": [
    "Alu\\b"
   ]
  },
  {
   "cell_type": "code",
   "execution_count": 53,
   "id": "e70c834a-24de-4b34-b343-134c7603b704",
   "metadata": {},
   "outputs": [
    {
     "data": {
      "text/plain": [
       "0.30945811236985504"
      ]
     },
     "execution_count": 53,
     "metadata": {},
     "output_type": "execute_result"
    }
   ],
   "source": [
    "det(A)"
   ]
  },
  {
   "cell_type": "code",
   "execution_count": 54,
   "id": "4bc58250-f21e-4056-9c97-d7a70e4e9739",
   "metadata": {},
   "outputs": [
    {
     "data": {
      "text/plain": [
       "0.30945811236985504"
      ]
     },
     "execution_count": 54,
     "metadata": {},
     "output_type": "execute_result"
    }
   ],
   "source": [
    "det(Alu)"
   ]
  },
  {
   "cell_type": "code",
   "execution_count": 55,
   "id": "e6abbdc6-0aa5-4446-84aa-9dc8d2180df8",
   "metadata": {},
   "outputs": [
    {
     "data": {
      "text/plain": [
       "LinearAlgebra.QRCompactWY{Float64, Matrix{Float64}, Matrix{Float64}}\n",
       "Q factor: 3×3 LinearAlgebra.QRCompactWYQ{Float64, Matrix{Float64}, Matrix{Float64}}\n",
       "R factor:\n",
       "3×3 Matrix{Float64}:\n",
       " -1.24666  -0.24876   -0.741056\n",
       "  0.0      -0.452796  -0.415715\n",
       "  0.0       0.0        0.548214"
      ]
     },
     "execution_count": 55,
     "metadata": {},
     "output_type": "execute_result"
    }
   ],
   "source": [
    "Aqr = qr(A)"
   ]
  },
  {
   "cell_type": "code",
   "execution_count": 57,
   "id": "8ad07877-7567-4b17-b4a1-54234bd9c104",
   "metadata": {},
   "outputs": [
    {
     "data": {
      "text/plain": [
       "3×3 LinearAlgebra.QRCompactWYQ{Float64, Matrix{Float64}, Matrix{Float64}}"
      ]
     },
     "execution_count": 57,
     "metadata": {},
     "output_type": "execute_result"
    }
   ],
   "source": [
    "Aqr.Q"
   ]
  },
  {
   "cell_type": "code",
   "execution_count": 58,
   "id": "1db73c0c-37d9-4bb1-8f97-eb18e344ba21",
   "metadata": {},
   "outputs": [
    {
     "data": {
      "text/plain": [
       "3×3 Matrix{Float64}:\n",
       " -1.24666  -0.24876   -0.741056\n",
       "  0.0      -0.452796  -0.415715\n",
       "  0.0       0.0        0.548214"
      ]
     },
     "execution_count": 58,
     "metadata": {},
     "output_type": "execute_result"
    }
   ],
   "source": [
    "Aqr.R"
   ]
  },
  {
   "cell_type": "code",
   "execution_count": 59,
   "id": "1d18edc5-6023-4366-97bc-6f090c411e89",
   "metadata": {},
   "outputs": [
    {
     "data": {
      "text/plain": [
       "3×3 Matrix{Float64}:\n",
       "  1.0          -5.55112e-17   1.11022e-16\n",
       " -5.55112e-17   1.0          -5.55112e-17\n",
       "  0.0          -5.55112e-17   1.0"
      ]
     },
     "execution_count": 59,
     "metadata": {},
     "output_type": "execute_result"
    }
   ],
   "source": [
    "Aqr.Q'*Aqr.Q"
   ]
  },
  {
   "cell_type": "code",
   "execution_count": 60,
   "id": "e7df315a-7f6d-4acb-80ce-c5e9bbb5224c",
   "metadata": {},
   "outputs": [
    {
     "data": {
      "text/plain": [
       "3×3 Matrix{Float64}:\n",
       " 1.52262   0.267766  1.09421\n",
       " 0.267766  0.888541  0.677748\n",
       " 1.09421   0.677748  1.67045"
      ]
     },
     "execution_count": 60,
     "metadata": {},
     "output_type": "execute_result"
    }
   ],
   "source": [
    "Asym = A + A'"
   ]
  },
  {
   "cell_type": "code",
   "execution_count": 61,
   "id": "9690169c-90a6-4be2-bbd7-046f2d37f9a3",
   "metadata": {},
   "outputs": [
    {
     "data": {
      "text/plain": [
       "Eigen{Float64, Float64, Matrix{Float64}, Vector{Float64}}\n",
       "values:\n",
       "3-element Vector{Float64}:\n",
       " 0.31309603380927775\n",
       " 0.8459673326154773\n",
       " 2.9225465145784986\n",
       "vectors:\n",
       "3×3 Matrix{Float64}:\n",
       " -0.481025   0.619186  -0.620664\n",
       " -0.565358  -0.760163  -0.320191\n",
       "  0.670064  -0.196878  -0.715719"
      ]
     },
     "execution_count": 61,
     "metadata": {},
     "output_type": "execute_result"
    }
   ],
   "source": [
    "AsymEig = eigen(Asym)"
   ]
  },
  {
   "cell_type": "code",
   "execution_count": 62,
   "id": "4d13ab47-3f3c-4568-9ee9-bbdec2101c59",
   "metadata": {},
   "outputs": [
    {
     "data": {
      "text/plain": [
       "3-element Vector{Float64}:\n",
       " 0.31309603380927775\n",
       " 0.8459673326154773\n",
       " 2.9225465145784986"
      ]
     },
     "execution_count": 62,
     "metadata": {},
     "output_type": "execute_result"
    }
   ],
   "source": [
    "AsymEig.values"
   ]
  },
  {
   "cell_type": "code",
   "execution_count": 63,
   "id": "a875a821-f4f3-4d57-addc-8e1ddbf69075",
   "metadata": {},
   "outputs": [
    {
     "data": {
      "text/plain": [
       "3×3 Matrix{Float64}:\n",
       " -0.481025   0.619186  -0.620664\n",
       " -0.565358  -0.760163  -0.320191\n",
       "  0.670064  -0.196878  -0.715719"
      ]
     },
     "execution_count": 63,
     "metadata": {},
     "output_type": "execute_result"
    }
   ],
   "source": [
    "AsymEig.vectors"
   ]
  },
  {
   "cell_type": "code",
   "execution_count": 65,
   "id": "381ec627-d569-442f-b8c0-0fbfd5ce0e45",
   "metadata": {},
   "outputs": [
    {
     "data": {
      "text/plain": [
       "3×3 Matrix{Float64}:\n",
       " 1.0           1.11022e-16  -8.88178e-16\n",
       " 0.0           1.0          -2.22045e-16\n",
       " 1.33227e-15  -2.22045e-16   1.0"
      ]
     },
     "execution_count": 65,
     "metadata": {},
     "output_type": "execute_result"
    }
   ],
   "source": [
    "inv(AsymEig)*Asym"
   ]
  },
  {
   "cell_type": "code",
   "execution_count": 66,
   "id": "6142a5f0-324e-4c5a-b24e-1ed1b7bad18a",
   "metadata": {},
   "outputs": [
    {
     "data": {
      "text/plain": [
       "1000×1000 Matrix{Float64}:\n",
       "  1.21919     1.89498     1.13769    …  -1.17839     0.329318    0.907566\n",
       " -0.0667729  -0.411892    0.623627      -0.497358    0.245039   -0.672191\n",
       "  1.97938     0.259871    1.84552        3.37711    -0.821011    0.190007\n",
       " -0.107106   -1.41858     1.33891       -0.560825    2.34398    -0.793936\n",
       "  1.11746    -1.40773     0.962896      -0.444347    0.365432   -0.246332\n",
       "  1.11887     1.09792    -0.101207   …   0.350729    1.22148    -0.164163\n",
       " -0.073545    1.42571     0.154895       1.67735     2.45225    -0.0106538\n",
       "  0.480368   -0.0140386   0.742063      -1.16037     0.994236   -0.866863\n",
       "  0.760408   -1.03767    -1.73576       -0.0114045  -0.376214    1.5636\n",
       " -0.271676   -0.362593    0.576431      -0.022571   -1.64629    -0.00603395\n",
       "  0.23883    -0.34432     0.25431    …   0.486761    1.26078    -0.877192\n",
       " -0.993476   -1.30491     0.594969       1.02095     0.0595188  -3.62627\n",
       " -1.10402    -1.91583     0.650678       1.87037     1.63159    -0.236448\n",
       "  ⋮                                  ⋱                          \n",
       "  1.4279     -0.750515    1.98692       -1.97432    -0.883463    0.49891\n",
       "  1.30728     0.373269    0.128268      -0.74715     1.24526     0.0595394\n",
       " -0.348066    0.70988    -0.290324   …   1.97024     0.30851    -1.03126\n",
       "  0.371834   -0.0222176   1.52004        2.64894    -2.0726     -1.18298\n",
       "  0.855957   -0.337223   -0.341019       0.0941659   0.58388    -0.850305\n",
       " -2.08439    -1.3649     -0.272118       0.361011    0.824685    0.0195274\n",
       " -1.54441     2.38897     1.93206        1.08577    -1.61254    -0.492179\n",
       "  0.17855    -0.25958     0.187685   …  -1.34254     0.569655   -0.807811\n",
       " -0.210189    1.54664     2.14117       -0.525221   -1.40982    -0.472773\n",
       "  0.490477    0.803903    0.0604441     -1.85743     0.165017   -0.99406\n",
       "  1.10786    -1.25147    -0.943444       0.490933   -0.795693   -1.06095\n",
       " -0.710635    0.265125   -1.47829       -0.818611    1.70061     0.306508"
      ]
     },
     "execution_count": 66,
     "metadata": {},
     "output_type": "execute_result"
    }
   ],
   "source": [
    "n = 1000\n",
    "A = randn(n,n)"
   ]
  },
  {
   "cell_type": "code",
   "execution_count": 67,
   "id": "fbc9ae24-2644-49f5-8c76-f2e2fa9fcaae",
   "metadata": {},
   "outputs": [
    {
     "data": {
      "text/plain": [
       "1000×1000 Matrix{Float64}:\n",
       "  2.43838     1.82821     3.11708    …  -0.687918   1.43718    0.196931\n",
       "  1.82821    -0.823784    0.883498       0.306545  -1.00644   -0.407066\n",
       "  3.11708     0.883498    3.69103        3.43756   -1.76445   -1.28829\n",
       "  0.598679   -0.963684    1.50988       -0.430181   2.84789   -0.859776\n",
       "  1.17454    -0.998664   -1.12439        0.464289  -0.459551   1.23509\n",
       "  2.35132     2.46954     0.332644   …   0.712383   0.33854   -0.490996\n",
       " -1.35709     0.942664   -0.420858       1.0801     1.03252   -0.0416528\n",
       "  0.367668   -0.0363813   1.60899       -1.53839    0.505019  -0.753032\n",
       " -0.0939787  -0.825324   -2.1775         0.910012  -1.38799    1.90806\n",
       " -0.240036   -0.183609    0.956247      -0.137951  -2.67164    0.1545\n",
       " -1.29718     0.895563   -1.07482    …  -1.52854    0.387326  -1.85323\n",
       " -1.34603    -0.0672108  -1.58795        0.9738    -0.606323  -3.10813\n",
       " -1.84127    -2.00403     0.422147      -0.130438   2.15705   -0.498119\n",
       "  ⋮                                  ⋱                        \n",
       "  0.29644    -0.556187    2.65114       -1.13435   -0.331933   0.212831\n",
       "  1.4804      0.334041    1.1068         1.31372    1.36192   -0.445898\n",
       "  0.797231    0.0531385  -0.0825638  …   2.29679    2.61058   -0.968592\n",
       " -0.0787694   0.0456341   1.56732        2.66166   -0.815377  -0.297262\n",
       "  1.19047     0.559443    0.21221       -1.10113    2.90875    0.68196\n",
       " -0.494734   -2.9761     -1.01835        0.554991   1.29768    0.113033\n",
       " -3.35755     3.61254     3.14246        1.82621   -2.25072    1.17839\n",
       "  0.142277    0.811109   -0.437482   …  -0.515118   1.35612   -0.694816\n",
       " -0.748635    1.21072     2.16774        1.21284   -1.37234   -2.08361\n",
       " -0.687918    0.306545    3.43756       -3.71485    0.65595   -1.81267\n",
       "  1.43718    -1.00644    -1.76445        0.65595   -1.59139    0.639658\n",
       "  0.196931   -0.407066   -1.28829       -1.81267    0.639658   0.613017"
      ]
     },
     "execution_count": 67,
     "metadata": {},
     "output_type": "execute_result"
    }
   ],
   "source": [
    "Asym = A + A'"
   ]
  },
  {
   "cell_type": "code",
   "execution_count": 68,
   "id": "00e700b1-3a85-47f2-a921-af388df29588",
   "metadata": {},
   "outputs": [
    {
     "data": {
      "text/plain": [
       "true"
      ]
     },
     "execution_count": 68,
     "metadata": {},
     "output_type": "execute_result"
    }
   ],
   "source": [
    "issymmetric(Asym)"
   ]
  },
  {
   "cell_type": "code",
   "execution_count": 69,
   "id": "e42bbaad-37f3-416f-b008-959a4c09574b",
   "metadata": {},
   "outputs": [
    {
     "data": {
      "text/plain": [
       "1.8282068822135364"
      ]
     },
     "execution_count": 69,
     "metadata": {},
     "output_type": "execute_result"
    }
   ],
   "source": [
    "Asym_noisy = copy(Asym)\n",
    "Asym_noisy[1,2] += 5eps()"
   ]
  },
  {
   "cell_type": "code",
   "execution_count": 70,
   "id": "abdc0f34-ace3-4e35-a869-e25f18a759ad",
   "metadata": {},
   "outputs": [
    {
     "data": {
      "text/plain": [
       "false"
      ]
     },
     "execution_count": 70,
     "metadata": {},
     "output_type": "execute_result"
    }
   ],
   "source": [
    "issymmetric(Asym_noisy)"
   ]
  },
  {
   "cell_type": "code",
   "execution_count": 71,
   "id": "7217953e-3b50-4899-83e4-e4d992ad4b1d",
   "metadata": {},
   "outputs": [
    {
     "data": {
      "text/plain": [
       "1000×1000 Symmetric{Float64, Matrix{Float64}}:\n",
       "  2.43838     1.82821     3.11708    …  -0.687918   1.43718    0.196931\n",
       "  1.82821    -0.823784    0.883498       0.306545  -1.00644   -0.407066\n",
       "  3.11708     0.883498    3.69103        3.43756   -1.76445   -1.28829\n",
       "  0.598679   -0.963684    1.50988       -0.430181   2.84789   -0.859776\n",
       "  1.17454    -0.998664   -1.12439        0.464289  -0.459551   1.23509\n",
       "  2.35132     2.46954     0.332644   …   0.712383   0.33854   -0.490996\n",
       " -1.35709     0.942664   -0.420858       1.0801     1.03252   -0.0416528\n",
       "  0.367668   -0.0363813   1.60899       -1.53839    0.505019  -0.753032\n",
       " -0.0939787  -0.825324   -2.1775         0.910012  -1.38799    1.90806\n",
       " -0.240036   -0.183609    0.956247      -0.137951  -2.67164    0.1545\n",
       " -1.29718     0.895563   -1.07482    …  -1.52854    0.387326  -1.85323\n",
       " -1.34603    -0.0672108  -1.58795        0.9738    -0.606323  -3.10813\n",
       " -1.84127    -2.00403     0.422147      -0.130438   2.15705   -0.498119\n",
       "  ⋮                                  ⋱                        \n",
       "  0.29644    -0.556187    2.65114       -1.13435   -0.331933   0.212831\n",
       "  1.4804      0.334041    1.1068         1.31372    1.36192   -0.445898\n",
       "  0.797231    0.0531385  -0.0825638  …   2.29679    2.61058   -0.968592\n",
       " -0.0787694   0.0456341   1.56732        2.66166   -0.815377  -0.297262\n",
       "  1.19047     0.559443    0.21221       -1.10113    2.90875    0.68196\n",
       " -0.494734   -2.9761     -1.01835        0.554991   1.29768    0.113033\n",
       " -3.35755     3.61254     3.14246        1.82621   -2.25072    1.17839\n",
       "  0.142277    0.811109   -0.437482   …  -0.515118   1.35612   -0.694816\n",
       " -0.748635    1.21072     2.16774        1.21284   -1.37234   -2.08361\n",
       " -0.687918    0.306545    3.43756       -3.71485    0.65595   -1.81267\n",
       "  1.43718    -1.00644    -1.76445        0.65595   -1.59139    0.639658\n",
       "  0.196931   -0.407066   -1.28829       -1.81267    0.639658   0.613017"
      ]
     },
     "execution_count": 71,
     "metadata": {},
     "output_type": "execute_result"
    }
   ],
   "source": [
    "Asym_explicit = Symmetric(Asym_noisy)"
   ]
  },
  {
   "cell_type": "code",
   "execution_count": 72,
   "id": "2d2a548a-fd04-4c76-9677-d6087f2a1f7b",
   "metadata": {},
   "outputs": [
    {
     "data": {
      "text/plain": [
       "true"
      ]
     },
     "execution_count": 72,
     "metadata": {},
     "output_type": "execute_result"
    }
   ],
   "source": [
    "issymmetric(Asym_explicit)"
   ]
  },
  {
   "cell_type": "code",
   "execution_count": 73,
   "id": "d3e9e6cd-2c16-47d2-95cc-4445e0cd2c48",
   "metadata": {},
   "outputs": [
    {
     "name": "stderr",
     "output_type": "stream",
     "text": [
      "\u001b[32m\u001b[1m   Resolving\u001b[22m\u001b[39m package versions...\n",
      "\u001b[32m\u001b[1m   Installed\u001b[22m\u001b[39m BenchmarkTools ─ v1.6.3\n",
      "\u001b[32m\u001b[1m    Updating\u001b[22m\u001b[39m `~/.julia/environments/v1.11/Project.toml`\n",
      "  \u001b[90m[6e4b80f9] \u001b[39m\u001b[92m+ BenchmarkTools v1.6.3\u001b[39m\n",
      "\u001b[32m\u001b[1m    Updating\u001b[22m\u001b[39m `~/.julia/environments/v1.11/Manifest.toml`\n",
      "  \u001b[90m[6e4b80f9] \u001b[39m\u001b[92m+ BenchmarkTools v1.6.3\u001b[39m\n",
      "  \u001b[90m[9abbd945] \u001b[39m\u001b[92m+ Profile v1.11.0\u001b[39m\n",
      "\u001b[92m\u001b[1mPrecompiling\u001b[22m\u001b[39m project...\n",
      "   4292.1 ms\u001b[32m  ✓ \u001b[39mBenchmarkTools\n",
      "  1 dependency successfully precompiled in 6 seconds. 468 already precompiled.\n"
     ]
    }
   ],
   "source": [
    "import Pkg\n",
    "Pkg.add(\"BenchmarkTools\")\n",
    "using BenchmarkTools"
   ]
  },
  {
   "cell_type": "code",
   "execution_count": 74,
   "id": "313c1e6f-a452-4775-9bd6-266e7334346c",
   "metadata": {},
   "outputs": [
    {
     "name": "stdout",
     "output_type": "stream",
     "text": [
      "  81.161 ms (21 allocations: 7.99 MiB)\n"
     ]
    }
   ],
   "source": [
    "@btime eigvals(Asym);"
   ]
  },
  {
   "cell_type": "code",
   "execution_count": 75,
   "id": "05098e11-d794-466e-a99a-d697adfa0054",
   "metadata": {},
   "outputs": [
    {
     "name": "stdout",
     "output_type": "stream",
     "text": [
      "  794.744 ms (27 allocations: 7.93 MiB)\n"
     ]
    }
   ],
   "source": [
    "@btime eigvals(Asym_noisy);"
   ]
  },
  {
   "cell_type": "code",
   "execution_count": 77,
   "id": "8991936b-fe4c-4cb3-9b64-c58edb72ff7b",
   "metadata": {},
   "outputs": [
    {
     "name": "stdout",
     "output_type": "stream",
     "text": [
      "  75.848 ms (21 allocations: 7.99 MiB)\n"
     ]
    }
   ],
   "source": [
    "@btime eigvals(Asym_explicit);"
   ]
  },
  {
   "cell_type": "code",
   "execution_count": 78,
   "id": "be236816-cb94-4730-a757-2ae86f5a7f6e",
   "metadata": {},
   "outputs": [
    {
     "name": "stdout",
     "output_type": "stream",
     "text": [
      "  70.633 ms (44 allocations: 18.31 MiB)\n"
     ]
    },
    {
     "data": {
      "text/plain": [
       "5.902125972191184"
      ]
     },
     "execution_count": 78,
     "metadata": {},
     "output_type": "execute_result"
    }
   ],
   "source": [
    "n = 100000;\n",
    "A = SymTridiagonal(randn(n), randn(n-1))\n",
    "\n",
    "@btime eigmax(A)"
   ]
  },
  {
   "cell_type": "code",
   "execution_count": 79,
   "id": "7bb48816-8886-4efb-9422-52acb9951ebd",
   "metadata": {},
   "outputs": [
    {
     "ename": "LoadError",
     "evalue": "OutOfMemoryError()",
     "output_type": "error",
     "traceback": [
      "OutOfMemoryError()",
      "",
      "Stacktrace:",
      " [1] GenericMemory",
      "   @ ./boot.jl:516 [inlined]",
      " [2] new_as_memoryref",
      "   @ ./boot.jl:535 [inlined]",
      " [3] Array",
      "   @ ./boot.jl:582 [inlined]",
      " [4] Matrix{Float64}(M::SymTridiagonal{Float64, Vector{Float64}})",
      "   @ LinearAlgebra /snap/julia/149/share/julia/stdlib/v1.11/LinearAlgebra/src/tridiag.jl:136",
      " [5] (Matrix)(M::SymTridiagonal{Float64, Vector{Float64}})",
      "   @ LinearAlgebra /snap/julia/149/share/julia/stdlib/v1.11/LinearAlgebra/src/tridiag.jl:147",
      " [6] top-level scope",
      "   @ In[79]:1"
     ]
    }
   ],
   "source": [
    "B = Matrix(A)"
   ]
  },
  {
   "cell_type": "code",
   "execution_count": 80,
   "id": "2759ae65-7817-4e3e-a7f6-f25e7b943489",
   "metadata": {},
   "outputs": [
    {
     "data": {
      "text/plain": [
       "3×3 Matrix{Rational{BigInt}}:\n",
       " 7//10  9//10  1//2\n",
       " 9//10   1     2//5\n",
       " 2//5   3//5   2//5"
      ]
     },
     "execution_count": 80,
     "metadata": {},
     "output_type": "execute_result"
    }
   ],
   "source": [
    "Arational = Matrix{Rational{BigInt}}(rand(1:10, 3, 3))/10"
   ]
  },
  {
   "cell_type": "code",
   "execution_count": 81,
   "id": "37e81008-b9e3-431f-a0fb-08b991e307a2",
   "metadata": {},
   "outputs": [
    {
     "data": {
      "text/plain": [
       "3-element Vector{Int64}:\n",
       " 1\n",
       " 1\n",
       " 1"
      ]
     },
     "execution_count": 81,
     "metadata": {},
     "output_type": "execute_result"
    }
   ],
   "source": [
    "x = fill(1, 3)"
   ]
  },
  {
   "cell_type": "code",
   "execution_count": 82,
   "id": "e17e9af8-c53d-45dc-b533-fa7154ddbf16",
   "metadata": {},
   "outputs": [
    {
     "data": {
      "text/plain": [
       "3-element Vector{Rational{BigInt}}:\n",
       " 21//10\n",
       " 23//10\n",
       "  7//5"
      ]
     },
     "execution_count": 82,
     "metadata": {},
     "output_type": "execute_result"
    }
   ],
   "source": [
    "b = Arational*x"
   ]
  },
  {
   "cell_type": "code",
   "execution_count": 83,
   "id": "1b9d0900-2b09-4368-8b3c-3cd2406bf44c",
   "metadata": {},
   "outputs": [
    {
     "data": {
      "text/plain": [
       "3-element Vector{Rational{BigInt}}:\n",
       " 1\n",
       " 1\n",
       " 1"
      ]
     },
     "execution_count": 83,
     "metadata": {},
     "output_type": "execute_result"
    }
   ],
   "source": [
    "Arational\\b"
   ]
  },
  {
   "cell_type": "code",
   "execution_count": 84,
   "id": "471c7869-4061-4335-b2c3-c7c72c9ecdbe",
   "metadata": {},
   "outputs": [
    {
     "data": {
      "text/plain": [
       "LU{Rational{BigInt}, Matrix{Rational{BigInt}}, Vector{Int64}}\n",
       "L factor:\n",
       "3×3 Matrix{Rational{BigInt}}:\n",
       "  1      0     0\n",
       " 4//9    1     0\n",
       " 7//9  11//14  1\n",
       "U factor:\n",
       "3×3 Matrix{Rational{BigInt}}:\n",
       " 9//10   1     2//5\n",
       "  0     7//45  2//9\n",
       "  0      0     1//70"
      ]
     },
     "execution_count": 84,
     "metadata": {},
     "output_type": "execute_result"
    }
   ],
   "source": [
    "lu(Arational)"
   ]
  },
  {
   "cell_type": "code",
   "execution_count": 85,
   "id": "7fb725c5-ba31-446d-8980-a5ff76a54299",
   "metadata": {},
   "outputs": [
    {
     "data": {
      "text/plain": [
       "1094"
      ]
     },
     "execution_count": 85,
     "metadata": {},
     "output_type": "execute_result"
    }
   ],
   "source": [
    "v = [1, 2, 33]\n",
    "dot_v = dot(v, v)"
   ]
  },
  {
   "cell_type": "code",
   "execution_count": 86,
   "id": "c0d001a0-d36a-4269-aeda-0d3d994ece90",
   "metadata": {},
   "outputs": [
    {
     "data": {
      "text/plain": [
       "3×3 Matrix{Int64}:\n",
       "  1   2    33\n",
       "  2   4    66\n",
       " 33  66  1089"
      ]
     },
     "execution_count": 86,
     "metadata": {},
     "output_type": "execute_result"
    }
   ],
   "source": [
    "outer_v = v * v'"
   ]
  },
  {
   "cell_type": "code",
   "execution_count": 87,
   "id": "b6466a76-34dd-4041-972b-7048598883f6",
   "metadata": {},
   "outputs": [
    {
     "data": {
      "text/plain": [
       "2-element Vector{Float64}:\n",
       "  2.5\n",
       " -0.5"
      ]
     },
     "execution_count": 87,
     "metadata": {},
     "output_type": "execute_result"
    }
   ],
   "source": [
    "A1 = [1 1; 1 -1]\n",
    "b1 = [2; 3]\n",
    "A1\\b1"
   ]
  },
  {
   "cell_type": "code",
   "execution_count": 89,
   "id": "b9d4d01e-9d97-44c9-9d2d-94d76514747f",
   "metadata": {},
   "outputs": [
    {
     "data": {
      "text/plain": [
       "0.0"
      ]
     },
     "execution_count": 89,
     "metadata": {},
     "output_type": "execute_result"
    }
   ],
   "source": [
    "A2 = [1 1; 2 2]\n",
    "b2 = [2; 4]\n",
    "det(A2)"
   ]
  },
  {
   "cell_type": "code",
   "execution_count": 91,
   "id": "ccaee62d-b10f-4d0c-adbe-c7c0ae10d8a5",
   "metadata": {},
   "outputs": [
    {
     "data": {
      "text/plain": [
       "0.0"
      ]
     },
     "execution_count": 91,
     "metadata": {},
     "output_type": "execute_result"
    }
   ],
   "source": [
    "A3 = [1 1; 2 2]\n",
    "b3 = [2 5]\n",
    "det(A3)"
   ]
  },
  {
   "cell_type": "code",
   "execution_count": 93,
   "id": "134c9ae2-9153-4b44-8d2c-daae6380024e",
   "metadata": {},
   "outputs": [
    {
     "data": {
      "text/plain": [
       "2-element Vector{Float64}:\n",
       " 0.4999999999999999\n",
       " 0.5"
      ]
     },
     "execution_count": 93,
     "metadata": {},
     "output_type": "execute_result"
    }
   ],
   "source": [
    "A4 = [1 1; 2 2; 3 3]\n",
    "b4 = [1; 2; 3]\n",
    "A4\\b4"
   ]
  },
  {
   "cell_type": "code",
   "execution_count": 95,
   "id": "8472e470-4978-4087-8de6-ac49f3767b7f",
   "metadata": {},
   "outputs": [
    {
     "data": {
      "text/plain": [
       "2-element Vector{Float64}:\n",
       "  1.5000000000000004\n",
       " -0.9999999999999997"
      ]
     },
     "execution_count": 95,
     "metadata": {},
     "output_type": "execute_result"
    }
   ],
   "source": [
    "A5 = [1 1; 2 1; 1 -1]\n",
    "b5 = [2; 1; 3]\n",
    "A5\\b5"
   ]
  },
  {
   "cell_type": "code",
   "execution_count": 97,
   "id": "71c9d506-6b87-46e8-89c3-cd927cd14f13",
   "metadata": {},
   "outputs": [
    {
     "data": {
      "text/plain": [
       "2-element Vector{Float64}:\n",
       " -0.9999999999999989\n",
       "  2.9999999999999982"
      ]
     },
     "execution_count": 97,
     "metadata": {},
     "output_type": "execute_result"
    }
   ],
   "source": [
    "A6 = [1 1; 2 1; 3 2]\n",
    "b6 = [2; 1; 3]\n",
    "A6\\b6"
   ]
  },
  {
   "cell_type": "code",
   "execution_count": 100,
   "id": "fbefdd4f-9c9a-4cff-8653-6a2457f19a47",
   "metadata": {},
   "outputs": [
    {
     "data": {
      "text/plain": [
       "3-element Vector{Float64}:\n",
       "  2.2142857142857144\n",
       "  0.35714285714285704\n",
       " -0.5714285714285712"
      ]
     },
     "execution_count": 100,
     "metadata": {},
     "output_type": "execute_result"
    }
   ],
   "source": [
    "A1 = [1 1 1; 1 -1 -2]\n",
    "b1 = [2; 3]\n",
    "A1\\b1"
   ]
  },
  {
   "cell_type": "code",
   "execution_count": 101,
   "id": "ff890a6e-b0f3-45b9-845b-74e51fb261e2",
   "metadata": {},
   "outputs": [
    {
     "data": {
      "text/plain": [
       "3-element Vector{Float64}:\n",
       " -0.5\n",
       "  2.5\n",
       "  0.0"
      ]
     },
     "execution_count": 101,
     "metadata": {},
     "output_type": "execute_result"
    }
   ],
   "source": [
    "A2 = [1 1 1; 2 2 -3; 3 1 1]\n",
    "b2 = [2; 4; 1]\n",
    "A2\\b2"
   ]
  },
  {
   "cell_type": "code",
   "execution_count": 103,
   "id": "8d4af576-b5e3-41ea-a418-7bbbd3f9de7b",
   "metadata": {},
   "outputs": [
    {
     "data": {
      "text/plain": [
       "0.0"
      ]
     },
     "execution_count": 103,
     "metadata": {},
     "output_type": "execute_result"
    }
   ],
   "source": [
    "A3 = [1 1 1; 1 1 2; 2 2 3]\n",
    "b3 = [1; 0; 1]\n",
    "det(A3)"
   ]
  },
  {
   "cell_type": "code",
   "execution_count": 105,
   "id": "b683e1df-ad36-42aa-b9e4-f56e7a80955a",
   "metadata": {},
   "outputs": [
    {
     "data": {
      "text/plain": [
       "0.0"
      ]
     },
     "execution_count": 105,
     "metadata": {},
     "output_type": "execute_result"
    }
   ],
   "source": [
    "A4 = [1 1 1; 1 1 2; 2 2 3]\n",
    "b4 = [1; 0; 0]\n",
    "det(A4)"
   ]
  },
  {
   "cell_type": "code",
   "execution_count": 107,
   "id": "dcb90c28-bebf-4bdd-ae58-25cb6a531251",
   "metadata": {},
   "outputs": [
    {
     "data": {
      "text/plain": [
       "2×2 Diagonal{Float64, Vector{Float64}}:\n",
       " -1.0   ⋅ \n",
       "   ⋅   3.0"
      ]
     },
     "execution_count": 107,
     "metadata": {},
     "output_type": "execute_result"
    }
   ],
   "source": [
    "A = [1 -2; -2 1]\n",
    "eigen_A = eigen(A)\n",
    "diag_A = Diagonal(eigen_A.values)"
   ]
  },
  {
   "cell_type": "code",
   "execution_count": 108,
   "id": "fec1c9fb-9a5a-42a9-bf34-b6eed96568b6",
   "metadata": {},
   "outputs": [
    {
     "data": {
      "text/plain": [
       "2×2 Diagonal{Float64, Vector{Float64}}:\n",
       " -0.236068   ⋅ \n",
       "   ⋅        4.23607"
      ]
     },
     "execution_count": 108,
     "metadata": {},
     "output_type": "execute_result"
    }
   ],
   "source": [
    "B = [1 -2; -2 3]\n",
    "eigen_B = eigen(B)\n",
    "diag_B = Diagonal(eigen_B.values)"
   ]
  },
  {
   "cell_type": "code",
   "execution_count": 109,
   "id": "36bd64a1-a833-4330-afea-1df45b2cc224",
   "metadata": {},
   "outputs": [
    {
     "data": {
      "text/plain": [
       "3×3 Diagonal{Float64, Vector{Float64}}:\n",
       " -1.0   ⋅    ⋅ \n",
       "   ⋅   0.0   ⋅ \n",
       "   ⋅    ⋅   3.0"
      ]
     },
     "execution_count": 109,
     "metadata": {},
     "output_type": "execute_result"
    }
   ],
   "source": [
    "C = [1 -2 0; -2 1 0; 0 2 0]\n",
    "eigen_C = eigen(C)\n",
    "diag_C = Diagonal(eigen_C.values)"
   ]
  },
  {
   "cell_type": "code",
   "execution_count": 110,
   "id": "b3255be7-d72b-4b41-aa0f-17369552dc60",
   "metadata": {},
   "outputs": [
    {
     "data": {
      "text/plain": [
       "2×2 Matrix{Int64}:\n",
       "  29525  -29524\n",
       " -29524   29525"
      ]
     },
     "execution_count": 110,
     "metadata": {},
     "output_type": "execute_result"
    }
   ],
   "source": [
    "A = [1 -2; -2 1]\n",
    "A ^ 10"
   ]
  },
  {
   "cell_type": "code",
   "execution_count": 111,
   "id": "0b4fcad1-7ea1-4c24-80a6-505fcbd37467",
   "metadata": {},
   "outputs": [
    {
     "data": {
      "text/plain": [
       "2×2 Matrix{Float64}:\n",
       "  2.1889   -0.45685\n",
       " -0.45685   2.1889"
      ]
     },
     "execution_count": 111,
     "metadata": {},
     "output_type": "execute_result"
    }
   ],
   "source": [
    "B = [5 -2; -2 5]\n",
    "sqrt(B)"
   ]
  },
  {
   "cell_type": "code",
   "execution_count": 112,
   "id": "b61f2bae-63ba-43bc-a3df-f7f03d305a37",
   "metadata": {},
   "outputs": [
    {
     "data": {
      "text/plain": [
       "2×2 Symmetric{ComplexF64, Matrix{ComplexF64}}:\n",
       "  0.971125+0.433013im  -0.471125+0.433013im\n",
       " -0.471125+0.433013im   0.971125+0.433013im"
      ]
     },
     "execution_count": 112,
     "metadata": {},
     "output_type": "execute_result"
    }
   ],
   "source": [
    "C = [1 -2; -2 1]\n",
    "C^(1/3)"
   ]
  },
  {
   "cell_type": "code",
   "execution_count": 113,
   "id": "59643e7e-2a00-400b-a586-4baaa28029b6",
   "metadata": {},
   "outputs": [
    {
     "data": {
      "text/plain": [
       "2×2 Matrix{ComplexF64}:\n",
       " 0.568864+0.351578im  0.920442-0.217287im\n",
       " 0.920442-0.217287im   1.48931+0.134291im"
      ]
     },
     "execution_count": 113,
     "metadata": {},
     "output_type": "execute_result"
    }
   ],
   "source": [
    "D = [1 2; 2 3]\n",
    "sqrt(D)"
   ]
  },
  {
   "cell_type": "code",
   "execution_count": 114,
   "id": "383bfad0-8e73-4561-b077-78e716f0f42e",
   "metadata": {},
   "outputs": [
    {
     "data": {
      "text/plain": [
       "Eigen{Float64, Float64, Matrix{Float64}, Vector{Float64}}\n",
       "values:\n",
       "5-element Vector{Float64}:\n",
       " -128.49322764802145\n",
       "  -55.887784553057\n",
       "   42.752167279318854\n",
       "   87.16111477514488\n",
       "  542.467730146614\n",
       "vectors:\n",
       "5×5 Matrix{Float64}:\n",
       " -0.147575   0.647178   0.010882    0.548903   -0.507907\n",
       " -0.256795  -0.173068   0.834628   -0.239864   -0.387253\n",
       " -0.185537   0.239762  -0.422161   -0.731925   -0.440631\n",
       "  0.819704  -0.247506  -0.0273194   0.0366447  -0.514526\n",
       " -0.453805  -0.657619  -0.352577    0.322668   -0.364928"
      ]
     },
     "execution_count": 114,
     "metadata": {},
     "output_type": "execute_result"
    }
   ],
   "source": [
    "A = [140 97 74 168 131;\n",
    "97 106 89 131 36;\n",
    "74 89 152 144 71;\n",
    "168 131 144 54 142;\n",
    "131 36 71 142 36]\n",
    "\n",
    "eigen_A = eigen(A)"
   ]
  },
  {
   "cell_type": "code",
   "execution_count": 115,
   "id": "ff87dce0-3125-4c12-9bb8-a4e9af3633b6",
   "metadata": {},
   "outputs": [
    {
     "data": {
      "text/plain": [
       "5×5 Diagonal{Float64, Vector{Float64}}:\n",
       " -128.493     ⋅        ⋅        ⋅         ⋅ \n",
       "     ⋅     -55.8878    ⋅        ⋅         ⋅ \n",
       "     ⋅        ⋅      42.7522    ⋅         ⋅ \n",
       "     ⋅        ⋅        ⋅      87.1611     ⋅ \n",
       "     ⋅        ⋅        ⋅        ⋅      542.468"
      ]
     },
     "execution_count": 115,
     "metadata": {},
     "output_type": "execute_result"
    }
   ],
   "source": [
    "diag_A = Diagonal(eigen_A.values)"
   ]
  },
  {
   "cell_type": "code",
   "execution_count": 116,
   "id": "c60e8423-5844-4a37-9083-a1690146aec0",
   "metadata": {},
   "outputs": [
    {
     "data": {
      "text/plain": [
       "5×5 LowerTriangular{Int64, Matrix{Int64}}:\n",
       " 140    ⋅    ⋅    ⋅   ⋅\n",
       "  97  106    ⋅    ⋅   ⋅\n",
       "  74   89  152    ⋅   ⋅\n",
       " 168  131  144   54   ⋅\n",
       " 131   36   71  142  36"
      ]
     },
     "execution_count": 116,
     "metadata": {},
     "output_type": "execute_result"
    }
   ],
   "source": [
    "lt_A = LowerTriangular(A)"
   ]
  },
  {
   "cell_type": "code",
   "execution_count": 117,
   "id": "b3c74aeb-312e-4147-b7d5-c7348d00b289",
   "metadata": {},
   "outputs": [
    {
     "name": "stdout",
     "output_type": "stream",
     "text": [
      "  301.677 ns (1 allocation: 16 bytes)\n",
      "  308.095 ns (1 allocation: 16 bytes)\n"
     ]
    },
    {
     "data": {
      "text/plain": [
       "5×5 LowerTriangular{Int64, Matrix{Int64}}:\n",
       " 140    ⋅    ⋅    ⋅   ⋅\n",
       "  97  106    ⋅    ⋅   ⋅\n",
       "  74   89  152    ⋅   ⋅\n",
       " 168  131  144   54   ⋅\n",
       " 131   36   71  142  36"
      ]
     },
     "execution_count": 117,
     "metadata": {},
     "output_type": "execute_result"
    }
   ],
   "source": [
    "@btime Diagonal(eigen_A.values)\n",
    "@btime LowerTriangular(A)"
   ]
  },
  {
   "cell_type": "code",
   "execution_count": 120,
   "id": "5d95930d-2312-480a-9c9f-16697ba0327a",
   "metadata": {},
   "outputs": [
    {
     "data": {
      "text/plain": [
       "2×2 Matrix{Bool}:\n",
       " 1  0\n",
       " 0  1"
      ]
     },
     "execution_count": 120,
     "metadata": {},
     "output_type": "execute_result"
    }
   ],
   "source": [
    "A1 = [1 2; 3 4]\n",
    "A2 = 1/2 * A1\n",
    "A3 = 1/10 * A1\n",
    "E = Matrix(I, 2, 2)"
   ]
  },
  {
   "cell_type": "code",
   "execution_count": 121,
   "id": "fe2f0242-7d85-4a75-959e-e4bfb4c9e96f",
   "metadata": {},
   "outputs": [
    {
     "data": {
      "text/plain": [
       "2×2 Matrix{Float64}:\n",
       "  0.5  -0.333333\n",
       " -0.5   0.0"
      ]
     },
     "execution_count": 121,
     "metadata": {},
     "output_type": "execute_result"
    }
   ],
   "source": [
    "inv(E - A1)"
   ]
  },
  {
   "cell_type": "code",
   "execution_count": 122,
   "id": "77e6ffe7-6f2d-4939-a630-df6acaaf3277",
   "metadata": {},
   "outputs": [
    {
     "data": {
      "text/plain": [
       "2×2 Matrix{Float64}:\n",
       "  0.5   -0.5\n",
       " -0.75  -0.25"
      ]
     },
     "execution_count": 122,
     "metadata": {},
     "output_type": "execute_result"
    }
   ],
   "source": [
    "inv(E - A2)"
   ]
  },
  {
   "cell_type": "code",
   "execution_count": 123,
   "id": "aeeed7dd-c616-458a-8eb6-150d083e05c0",
   "metadata": {},
   "outputs": [
    {
     "data": {
      "text/plain": [
       "2×2 Matrix{Float64}:\n",
       " 1.25   0.416667\n",
       " 0.625  1.875"
      ]
     },
     "execution_count": 123,
     "metadata": {},
     "output_type": "execute_result"
    }
   ],
   "source": [
    "inv(E - A3)"
   ]
  },
  {
   "cell_type": "code",
   "execution_count": 124,
   "id": "c165256d-54d1-4c70-a436-37ae2d01d7a8",
   "metadata": {},
   "outputs": [
    {
     "data": {
      "text/plain": [
       "3×3 Matrix{Float64}:\n",
       " 0.1  0.2  0.3\n",
       " 0.0  0.1  0.2\n",
       " 0.0  0.1  0.3"
      ]
     },
     "execution_count": 124,
     "metadata": {},
     "output_type": "execute_result"
    }
   ],
   "source": [
    "A4 = [0.1 0.2 0.3;\n",
    "0 0.1 0.2;\n",
    "0 0.1 0.3]"
   ]
  },
  {
   "cell_type": "code",
   "execution_count": 125,
   "id": "5e4453e1-f60e-4de3-8138-8014dfb7ab2d",
   "metadata": {},
   "outputs": [
    {
     "data": {
      "text/plain": [
       "2-element BitVector:\n",
       " 1\n",
       " 0"
      ]
     },
     "execution_count": 125,
     "metadata": {},
     "output_type": "execute_result"
    }
   ],
   "source": [
    "abs.(eigen(A1).values).<1"
   ]
  },
  {
   "cell_type": "code",
   "execution_count": 126,
   "id": "75b3ce6a-362d-4997-8d55-4f878ca951cc",
   "metadata": {},
   "outputs": [
    {
     "data": {
      "text/plain": [
       "2-element BitVector:\n",
       " 1\n",
       " 0"
      ]
     },
     "execution_count": 126,
     "metadata": {},
     "output_type": "execute_result"
    }
   ],
   "source": [
    "abs.(eigen(A2).values).<1"
   ]
  },
  {
   "cell_type": "code",
   "execution_count": 127,
   "id": "42982e35-a778-47b8-8bbb-2599a949266e",
   "metadata": {},
   "outputs": [
    {
     "data": {
      "text/plain": [
       "2-element BitVector:\n",
       " 1\n",
       " 1"
      ]
     },
     "execution_count": 127,
     "metadata": {},
     "output_type": "execute_result"
    }
   ],
   "source": [
    "abs.(eigen(A3).values).<1"
   ]
  },
  {
   "cell_type": "code",
   "execution_count": 128,
   "id": "13f2a948-d2c2-4722-8f42-f31ca60c38fa",
   "metadata": {},
   "outputs": [
    {
     "data": {
      "text/plain": [
       "3-element BitVector:\n",
       " 1\n",
       " 1\n",
       " 1"
      ]
     },
     "execution_count": 128,
     "metadata": {},
     "output_type": "execute_result"
    }
   ],
   "source": [
    "abs.(eigen(A4).values).<1"
   ]
  },
  {
   "cell_type": "code",
   "execution_count": null,
   "id": "5bbabc7f-68c2-4032-be30-2070c13e2396",
   "metadata": {},
   "outputs": [],
   "source": []
  }
 ],
 "metadata": {
  "kernelspec": {
   "display_name": "Julia 1.11.3",
   "language": "julia",
   "name": "julia-1.11"
  },
  "language_info": {
   "file_extension": ".jl",
   "mimetype": "application/julia",
   "name": "julia",
   "version": "1.11.7"
  }
 },
 "nbformat": 4,
 "nbformat_minor": 5
}
