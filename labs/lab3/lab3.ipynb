{
 "cells": [
  {
   "cell_type": "code",
   "execution_count": 1,
   "id": "42df0ca8-03bf-4a52-8595-21955ac648e9",
   "metadata": {},
   "outputs": [
    {
     "name": "stdout",
     "output_type": "stream",
     "text": [
      "1\n",
      "2\n",
      "3\n",
      "4\n",
      "5\n",
      "6\n",
      "7\n",
      "8\n",
      "9\n",
      "10\n"
     ]
    }
   ],
   "source": [
    "# пока n<10 прибавить к n единицу и распечатать значение:\n",
    "n = 0\n",
    "while n < 10\n",
    "    n += 1\n",
    "    println(n)\n",
    "end"
   ]
  },
  {
   "cell_type": "code",
   "execution_count": 2,
   "id": "7421b5c4-af44-488d-a0a7-212a31958d15",
   "metadata": {},
   "outputs": [
    {
     "name": "stdout",
     "output_type": "stream",
     "text": [
      "Hi Ted, it's great to see you!\n",
      "Hi Robyn, it's great to see you!\n",
      "Hi Barney, it's great to see you!\n",
      "Hi Lily, it's great to see you!\n",
      "Hi Marshall, it's great to see you!\n"
     ]
    }
   ],
   "source": [
    "myfriends = [\"Ted\", \"Robyn\", \"Barney\", \"Lily\", \"Marshall\"]\n",
    "i = 1\n",
    "while i <= length(myfriends)\n",
    "    friend = myfriends[i]\n",
    "    println(\"Hi $friend, it's great to see you!\")\n",
    "    i += 1\n",
    "end"
   ]
  },
  {
   "cell_type": "code",
   "execution_count": 3,
   "id": "8b203113-224c-4571-b234-ea2cebd7a05a",
   "metadata": {},
   "outputs": [
    {
     "name": "stdout",
     "output_type": "stream",
     "text": [
      "1\n",
      "3\n",
      "5\n",
      "7\n",
      "9\n"
     ]
    }
   ],
   "source": [
    "for n in 1:2:10\n",
    "    println(n)\n",
    "end"
   ]
  },
  {
   "cell_type": "code",
   "execution_count": 4,
   "id": "98d2358c-1af9-4432-86dd-7f047461c7d5",
   "metadata": {},
   "outputs": [
    {
     "name": "stdout",
     "output_type": "stream",
     "text": [
      "1\n",
      "2\n",
      "3\n",
      "4\n",
      "5\n",
      "6\n",
      "7\n",
      "8\n",
      "9\n",
      "10\n"
     ]
    }
   ],
   "source": [
    "for n in 1:1:10\n",
    "    println(n)\n",
    "end"
   ]
  },
  {
   "cell_type": "code",
   "execution_count": 5,
   "id": "59fe3018-f4f7-4f85-b815-73304dc6a100",
   "metadata": {},
   "outputs": [
    {
     "name": "stdout",
     "output_type": "stream",
     "text": [
      "Hi Ted, it's great to see you!\n",
      "Hi Robyn, it's great to see you!\n",
      "Hi Barney, it's great to see you!\n",
      "Hi Lily, it's great to see you!\n",
      "Hi Marshall, it's great to see you!\n"
     ]
    }
   ],
   "source": [
    "myfriends = [\"Ted\", \"Robyn\", \"Barney\", \"Lily\", \"Marshall\"]\n",
    "for friend in myfriends\n",
    "    println(\"Hi $friend, it's great to see you!\")\n",
    "end"
   ]
  },
  {
   "cell_type": "code",
   "execution_count": 6,
   "id": "42d59abb-6b81-4ec0-91ad-ee5954f047ce",
   "metadata": {},
   "outputs": [
    {
     "data": {
      "text/plain": [
       "5×5 Matrix{Int64}:\n",
       " 2  3  4  5   6\n",
       " 3  4  5  6   7\n",
       " 4  5  6  7   8\n",
       " 5  6  7  8   9\n",
       " 6  7  8  9  10"
      ]
     },
     "execution_count": 6,
     "metadata": {},
     "output_type": "execute_result"
    }
   ],
   "source": [
    "# инициализация массива m x n из нулей:\n",
    "m, n = 5, 5\n",
    "A = fill(0, (m, n))\n",
    "# формирование массива, в котором значение каждой записи\n",
    "# является суммой индексов строки и столбца:\n",
    "for i in 1:m\n",
    "    for j in 1:n\n",
    "        A[i, j] = i + j\n",
    "    end\n",
    "end\n",
    "A"
   ]
  },
  {
   "cell_type": "code",
   "execution_count": 7,
   "id": "eaca72c5-856d-4694-88ec-53022be75354",
   "metadata": {},
   "outputs": [
    {
     "data": {
      "text/plain": [
       "5×5 Matrix{Int64}:\n",
       " 2  3  4  5   6\n",
       " 3  4  5  6   7\n",
       " 4  5  6  7   8\n",
       " 5  6  7  8   9\n",
       " 6  7  8  9  10"
      ]
     },
     "execution_count": 7,
     "metadata": {},
     "output_type": "execute_result"
    }
   ],
   "source": [
    "# инициализация массива m x n из нулей:\n",
    "B = fill(0, (m, n))\n",
    "for i in 1:m, j in 1:n\n",
    "    B[i, j] = i + j\n",
    "end\n",
    "B"
   ]
  },
  {
   "cell_type": "code",
   "execution_count": 8,
   "id": "bbbd3a5f-38d5-4fc6-92be-aa0552e52865",
   "metadata": {},
   "outputs": [
    {
     "data": {
      "text/plain": [
       "5×5 Matrix{Int64}:\n",
       " 2  3  4  5   6\n",
       " 3  4  5  6   7\n",
       " 4  5  6  7   8\n",
       " 5  6  7  8   9\n",
       " 6  7  8  9  10"
      ]
     },
     "execution_count": 8,
     "metadata": {},
     "output_type": "execute_result"
    }
   ],
   "source": [
    "C = [i + j for i in 1:m, j in 1:n]\n",
    "C"
   ]
  },
  {
   "cell_type": "code",
   "execution_count": 12,
   "id": "71d0731b-c9de-4c5f-a940-52bdb84199d4",
   "metadata": {},
   "outputs": [
    {
     "name": "stdout",
     "output_type": "stream",
     "text": [
      "FizzBuzz\n"
     ]
    }
   ],
   "source": [
    "# используем `&&` для реализации операции \"AND\"\n",
    "# операция % вычисляет остаток от деления\n",
    "N = 15\n",
    "if (N % 3 == 0) && (N % 5 == 0)\n",
    "    println(\"FizzBuzz\")\n",
    "elseif N % 3 == 0\n",
    "    println(\"Fizz\")\n",
    "elseif N % 5 == 0\n",
    "    println(\"Buzz\")\n",
    "else\n",
    "    println(N)\n",
    "end"
   ]
  },
  {
   "cell_type": "code",
   "execution_count": 13,
   "id": "1464a868-32ff-4488-a046-3d6e2a8f9737",
   "metadata": {},
   "outputs": [
    {
     "data": {
      "text/plain": [
       "10"
      ]
     },
     "execution_count": 13,
     "metadata": {},
     "output_type": "execute_result"
    }
   ],
   "source": [
    "x = 5\n",
    "y = 10\n",
    "(x > y) ? x : y"
   ]
  },
  {
   "cell_type": "code",
   "execution_count": 14,
   "id": "722fe58e-a0f6-4d1b-aa60-456e00da2c3c",
   "metadata": {},
   "outputs": [
    {
     "data": {
      "text/plain": [
       "f (generic function with 1 method)"
      ]
     },
     "execution_count": 14,
     "metadata": {},
     "output_type": "execute_result"
    }
   ],
   "source": [
    "function sayhi(name)\n",
    "    println(\"Hi $name, it's great to see you!\")\n",
    "end\n",
    "# функция возведения в квадрат:\n",
    "function f(x)\n",
    "    x^2\n",
    "end"
   ]
  },
  {
   "cell_type": "code",
   "execution_count": 15,
   "id": "6af57992-8fcd-4af3-81bd-51b912cbbad2",
   "metadata": {},
   "outputs": [
    {
     "name": "stdout",
     "output_type": "stream",
     "text": [
      "Hi C-3PO, it's great to see you!\n"
     ]
    },
    {
     "data": {
      "text/plain": [
       "1764"
      ]
     },
     "execution_count": 15,
     "metadata": {},
     "output_type": "execute_result"
    }
   ],
   "source": [
    "sayhi(\"C-3PO\")\n",
    "f(42)"
   ]
  },
  {
   "cell_type": "code",
   "execution_count": 16,
   "id": "ce20fddf-828d-413e-9fab-0c3fcaa59a77",
   "metadata": {},
   "outputs": [
    {
     "data": {
      "text/plain": [
       "f2 (generic function with 1 method)"
      ]
     },
     "execution_count": 16,
     "metadata": {},
     "output_type": "execute_result"
    }
   ],
   "source": [
    "sayhi2(name) = println(\"Hi $name, it's great to see you!\")\n",
    "f2(x) = x^2"
   ]
  },
  {
   "cell_type": "code",
   "execution_count": 17,
   "id": "85169b6f-03c5-4151-8e83-893f1d4c9b94",
   "metadata": {
    "scrolled": true
   },
   "outputs": [
    {
     "name": "stdout",
     "output_type": "stream",
     "text": [
      "Hi C-3PO, it's great to see you!\n"
     ]
    },
    {
     "data": {
      "text/plain": [
       "1764"
      ]
     },
     "execution_count": 17,
     "metadata": {},
     "output_type": "execute_result"
    }
   ],
   "source": [
    "sayhi2(\"C-3PO\")\n",
    "f2(42)"
   ]
  },
  {
   "cell_type": "code",
   "execution_count": 18,
   "id": "5d32b904-4db3-4eb1-914d-c9be92f02d35",
   "metadata": {
    "scrolled": true
   },
   "outputs": [
    {
     "data": {
      "text/plain": [
       "#5 (generic function with 1 method)"
      ]
     },
     "execution_count": 18,
     "metadata": {},
     "output_type": "execute_result"
    }
   ],
   "source": [
    "sayhi3 = name -> println(\"Hi $name, it's great to see you!\")\n",
    "f3 = x -> x^2"
   ]
  },
  {
   "cell_type": "code",
   "execution_count": 19,
   "id": "f03699a1-f2d7-44dc-a827-16ec379cae5a",
   "metadata": {},
   "outputs": [
    {
     "name": "stdout",
     "output_type": "stream",
     "text": [
      "Hi C-3PO, it's great to see you!\n"
     ]
    },
    {
     "data": {
      "text/plain": [
       "1764"
      ]
     },
     "execution_count": 19,
     "metadata": {},
     "output_type": "execute_result"
    }
   ],
   "source": [
    "sayhi3(\"C-3PO\")\n",
    "f3(42)"
   ]
  },
  {
   "cell_type": "code",
   "execution_count": 21,
   "id": "d0f1a03b-d4cd-4d27-8849-331fc384431b",
   "metadata": {},
   "outputs": [
    {
     "data": {
      "text/plain": [
       "3-element Vector{Int64}:\n",
       " 3\n",
       " 5\n",
       " 2"
      ]
     },
     "execution_count": 21,
     "metadata": {},
     "output_type": "execute_result"
    }
   ],
   "source": [
    "# задаём массив v:\n",
    "v = [3, 5, 2]\n",
    "sort(v)\n",
    "v"
   ]
  },
  {
   "cell_type": "code",
   "execution_count": 22,
   "id": "94be5a3c-ba4e-43cf-b896-495362c3e245",
   "metadata": {},
   "outputs": [
    {
     "data": {
      "text/plain": [
       "3-element Vector{Int64}:\n",
       " 2\n",
       " 3\n",
       " 5"
      ]
     },
     "execution_count": 22,
     "metadata": {},
     "output_type": "execute_result"
    }
   ],
   "source": [
    "sort!(v)\n",
    "v"
   ]
  },
  {
   "cell_type": "code",
   "execution_count": 23,
   "id": "f0af6316-4092-4e42-80fb-3fe429db2184",
   "metadata": {},
   "outputs": [
    {
     "data": {
      "text/plain": [
       "3-element Vector{Int64}:\n",
       " 2\n",
       " 3\n",
       " 5"
      ]
     },
     "execution_count": 23,
     "metadata": {},
     "output_type": "execute_result"
    }
   ],
   "source": [
    "v = [3, 5, 2]\n",
    "result = sort(v)\n",
    "result"
   ]
  },
  {
   "cell_type": "code",
   "execution_count": 24,
   "id": "21f275a9-9bda-413c-b6ed-f0a3f65a7744",
   "metadata": {},
   "outputs": [
    {
     "data": {
      "text/plain": [
       "3-element Vector{Int64}:\n",
       " 1\n",
       " 4\n",
       " 9"
      ]
     },
     "execution_count": 24,
     "metadata": {},
     "output_type": "execute_result"
    }
   ],
   "source": [
    "map(f, [1, 2, 3])"
   ]
  },
  {
   "cell_type": "code",
   "execution_count": 25,
   "id": "81e88dd9-70fd-4bb0-a7cb-51fcf8616e09",
   "metadata": {},
   "outputs": [
    {
     "data": {
      "text/plain": [
       "3-element Vector{Int64}:\n",
       " 1\n",
       " 4\n",
       " 9"
      ]
     },
     "execution_count": 25,
     "metadata": {},
     "output_type": "execute_result"
    }
   ],
   "source": [
    "f(x) = x^2\n",
    "broadcast(f, [1, 2, 3])"
   ]
  },
  {
   "cell_type": "code",
   "execution_count": 26,
   "id": "efa1c715-4e1d-4544-bc0c-9d67f51400dd",
   "metadata": {},
   "outputs": [
    {
     "data": {
      "text/plain": [
       "3×3 Matrix{Int64}:\n",
       " 1  2  3\n",
       " 4  5  6\n",
       " 7  8  9"
      ]
     },
     "execution_count": 26,
     "metadata": {},
     "output_type": "execute_result"
    }
   ],
   "source": [
    "# Задаём матрицу A:\n",
    "A = [i + 3*j for j in 0:2, i in 1:3]\n",
    "A"
   ]
  },
  {
   "cell_type": "code",
   "execution_count": 27,
   "id": "e56fa52e-c905-4887-81c0-c6de072b21dd",
   "metadata": {},
   "outputs": [
    {
     "data": {
      "text/plain": [
       "3×3 Matrix{Int64}:\n",
       "  30   36   42\n",
       "  66   81   96\n",
       " 102  126  150"
      ]
     },
     "execution_count": 27,
     "metadata": {},
     "output_type": "execute_result"
    }
   ],
   "source": [
    "f(A)"
   ]
  },
  {
   "cell_type": "code",
   "execution_count": 28,
   "id": "639ad9c3-02d0-45e5-8163-98437ead0baa",
   "metadata": {},
   "outputs": [
    {
     "data": {
      "text/plain": [
       "3×3 Matrix{Int64}:\n",
       "  1   4   9\n",
       " 16  25  36\n",
       " 49  64  81"
      ]
     },
     "execution_count": 28,
     "metadata": {},
     "output_type": "execute_result"
    }
   ],
   "source": [
    "broadcast(f, A)"
   ]
  },
  {
   "cell_type": "code",
   "execution_count": 29,
   "id": "a966c676-f16f-4f47-9025-fce631467e44",
   "metadata": {},
   "outputs": [
    {
     "data": {
      "text/plain": [
       "3×3 Matrix{Float64}:\n",
       "  3.0   6.0   9.0\n",
       " 12.0  15.0  18.0\n",
       " 21.0  24.0  27.0"
      ]
     },
     "execution_count": 29,
     "metadata": {},
     "output_type": "execute_result"
    }
   ],
   "source": [
    "A .+ 2 .* f.(A) ./ A"
   ]
  },
  {
   "cell_type": "code",
   "execution_count": 30,
   "id": "9702d33c-6197-4c3b-8502-43d80edb08ab",
   "metadata": {},
   "outputs": [
    {
     "data": {
      "text/plain": [
       "3×3 Matrix{Float64}:\n",
       "  3.0   6.0   9.0\n",
       " 12.0  15.0  18.0\n",
       " 21.0  24.0  27.0"
      ]
     },
     "execution_count": 30,
     "metadata": {},
     "output_type": "execute_result"
    }
   ],
   "source": [
    "broadcast(x -> x + 2 * f(x) / x, A)"
   ]
  },
  {
   "cell_type": "code",
   "execution_count": 31,
   "id": "13558e5d-19a2-41bb-88ba-a08813c5ae7d",
   "metadata": {},
   "outputs": [
    {
     "name": "stderr",
     "output_type": "stream",
     "text": [
      "\u001b[32m\u001b[1m    Updating\u001b[22m\u001b[39m registry at `~/.julia/registries/General.toml`\n",
      "\u001b[32m\u001b[1m   Resolving\u001b[22m\u001b[39m package versions...\n",
      "\u001b[32m\u001b[1m   Installed\u001b[22m\u001b[39m Example ─ v0.5.5\n",
      "\u001b[32m\u001b[1m    Updating\u001b[22m\u001b[39m `~/.julia/environments/v1.11/Project.toml`\n",
      "  \u001b[90m[7876af07] \u001b[39m\u001b[92m+ Example v0.5.5\u001b[39m\n",
      "\u001b[32m\u001b[1m    Updating\u001b[22m\u001b[39m `~/.julia/environments/v1.11/Manifest.toml`\n",
      "  \u001b[90m[7876af07] \u001b[39m\u001b[92m+ Example v0.5.5\u001b[39m\n",
      "\u001b[92m\u001b[1mPrecompiling\u001b[22m\u001b[39m project...\n",
      "   1217.3 ms\u001b[32m  ✓ \u001b[39m\u001b[90mConcreteStructs\u001b[39m\n",
      "   1214.5 ms\u001b[32m  ✓ \u001b[39m\u001b[90mIteratorInterfaceExtensions\u001b[39m\n",
      "   2063.4 ms\u001b[32m  ✓ \u001b[39m\u001b[90mSimpleUnPack\u001b[39m\n",
      "   1218.2 ms\u001b[32m  ✓ \u001b[39m\u001b[90mExprTools\u001b[39m\n",
      "   1223.8 ms\u001b[32m  ✓ \u001b[39m\u001b[90mPositiveFactorizations\u001b[39m\n",
      "   1228.7 ms\u001b[32m  ✓ \u001b[39m\u001b[90mMuladdMacro\u001b[39m\n",
      "   1222.0 ms\u001b[32m  ✓ \u001b[39m\u001b[90mLaTeXStrings\u001b[39m\n",
      "   1226.0 ms\u001b[32m  ✓ \u001b[39m\u001b[90mAbstractFFTs\u001b[39m\n",
      "   1258.1 ms\u001b[32m  ✓ \u001b[39m\u001b[90mFunctionWrappers\u001b[39m\n",
      "    665.7 ms\u001b[32m  ✓ \u001b[39mExample\n",
      "    713.6 ms\u001b[32m  ✓ \u001b[39m\u001b[90mPipe\u001b[39m\n",
      "    895.1 ms\u001b[32m  ✓ \u001b[39m\u001b[90mContour\u001b[39m\n",
      "    910.5 ms\u001b[32m  ✓ \u001b[39m\u001b[90mStatsAPI\u001b[39m\n",
      "    944.3 ms\u001b[32m  ✓ \u001b[39m\u001b[90mTensorCore\u001b[39m\n",
      "    960.1 ms\u001b[32m  ✓ \u001b[39m\u001b[90mCEnum\u001b[39m\n",
      "    604.8 ms\u001b[32m  ✓ \u001b[39m\u001b[90mUnPack\u001b[39m\n",
      "   1355.8 ms\u001b[32m  ✓ \u001b[39m\u001b[90mADTypes\u001b[39m\n",
      "    559.8 ms\u001b[32m  ✓ \u001b[39m\u001b[90mCommonSolve\u001b[39m\n",
      "    824.2 ms\u001b[32m  ✓ \u001b[39m\u001b[90mMeasures\u001b[39m\n",
      "    873.8 ms\u001b[32m  ✓ \u001b[39m\u001b[90mInverseFunctions\u001b[39m\n",
      "   1017.8 ms\u001b[32m  ✓ \u001b[39m\u001b[90mStatistics\u001b[39m\n",
      "    697.3 ms\u001b[32m  ✓ \u001b[39m\u001b[90mManualMemory\u001b[39m\n",
      "    737.8 ms\u001b[32m  ✓ \u001b[39m\u001b[90mPoissonRandom\u001b[39m\n",
      "   2553.2 ms\u001b[32m  ✓ \u001b[39m\u001b[90mFormat\u001b[39m\n",
      "   2002.9 ms\u001b[32m  ✓ \u001b[39m\u001b[90mFillArrays\u001b[39m\n",
      "    574.6 ms\u001b[32m  ✓ \u001b[39m\u001b[90mDataValueInterfaces\u001b[39m\n",
      "   1299.4 ms\u001b[32m  ✓ \u001b[39m\u001b[90mOrderedCollections\u001b[39m\n",
      "    752.8 ms\u001b[32m  ✓ \u001b[39m\u001b[90mEnumX\u001b[39m\n",
      "   1820.5 ms\u001b[32m  ✓ \u001b[39m\u001b[90mGrisu\u001b[39m\n",
      "    982.5 ms\u001b[32m  ✓ \u001b[39m\u001b[90mRequires\u001b[39m\n",
      "   2299.5 ms\u001b[32m  ✓ \u001b[39m\u001b[90mRandomNumbers\u001b[39m\n",
      "   1078.9 ms\u001b[32m  ✓ \u001b[39m\u001b[90mStableRNGs\u001b[39m\n",
      "    647.6 ms\u001b[32m  ✓ \u001b[39m\u001b[90mSIMDTypes\u001b[39m\n",
      "    595.0 ms\u001b[32m  ✓ \u001b[39m\u001b[90mReexport\u001b[39m\n",
      "   1141.3 ms\u001b[32m  ✓ \u001b[39m\u001b[90mUnzip\u001b[39m\n",
      "   4436.4 ms\u001b[32m  ✓ \u001b[39m\u001b[90mExproniconLite\u001b[39m\n",
      "    697.6 ms\u001b[32m  ✓ \u001b[39m\u001b[90mCompositionsBase\u001b[39m\n",
      "    869.4 ms\u001b[32m  ✓ \u001b[39m\u001b[90mSimpleBufferStream\u001b[39m\n",
      "    848.8 ms\u001b[32m  ✓ \u001b[39m\u001b[90mPtrArrays\u001b[39m\n",
      "   1398.0 ms\u001b[32m  ✓ \u001b[39m\u001b[90mURIs\u001b[39m\n",
      "    718.0 ms\u001b[32m  ✓ \u001b[39m\u001b[90mFastPower\u001b[39m\n",
      "   1229.8 ms\u001b[32m  ✓ \u001b[39m\u001b[90mTranscodingStreams\u001b[39m\n",
      "    939.4 ms\u001b[32m  ✓ \u001b[39m\u001b[90mInflate\u001b[39m\n",
      "   1027.4 ms\u001b[32m  ✓ \u001b[39m\u001b[90mDelimitedFiles\u001b[39m\n",
      "    778.7 ms\u001b[32m  ✓ \u001b[39m\u001b[90mIfElse\u001b[39m\n",
      "   1164.0 ms\u001b[32m  ✓ \u001b[39m\u001b[90mNaNMath\u001b[39m\n",
      "    907.9 ms\u001b[32m  ✓ \u001b[39m\u001b[90mCommonWorldInvalidations\u001b[39m\n",
      "   1199.5 ms\u001b[32m  ✓ \u001b[39m\u001b[90mConstructionBase\u001b[39m\n",
      "   2843.6 ms\u001b[32m  ✓ \u001b[39m\u001b[90mIrrationalConstants\u001b[39m\n",
      "   1455.1 ms\u001b[32m  ✓ \u001b[39m\u001b[90mEnzymeCore\u001b[39m\n",
      "    776.6 ms\u001b[32m  ✓ \u001b[39m\u001b[90mPackageExtensionCompat\u001b[39m\n",
      "    864.2 ms\u001b[32m  ✓ \u001b[39m\u001b[90mFastClosures\u001b[39m\n",
      "   1201.6 ms\u001b[32m  ✓ \u001b[39m\u001b[90mDataAPI\u001b[39m\n",
      "   1096.1 ms\u001b[32m  ✓ \u001b[39m\u001b[90mBitFlags\u001b[39m\n",
      "    930.8 ms\u001b[32m  ✓ \u001b[39m\u001b[90mStaticArraysCore\u001b[39m\n",
      "   5764.4 ms\u001b[32m  ✓ \u001b[39m\u001b[90mMacroTools\u001b[39m\n",
      "   1369.9 ms\u001b[32m  ✓ \u001b[39m\u001b[90mSuiteSparse\u001b[39m\n",
      "    864.9 ms\u001b[32m  ✓ \u001b[39m\u001b[90mScratch\u001b[39m\n",
      "   1647.2 ms\u001b[32m  ✓ \u001b[39m\u001b[90mConcurrentUtilities\u001b[39m\n",
      "   1146.5 ms\u001b[32m  ✓ \u001b[39m\u001b[90mLoggingExtras\u001b[39m\n",
      "   1089.5 ms\u001b[32m  ✓ \u001b[39m\u001b[90mCompat\u001b[39m\n",
      "   1167.0 ms\u001b[32m  ✓ \u001b[39m\u001b[90mCpuId\u001b[39m\n",
      "   2499.2 ms\u001b[32m  ✓ \u001b[39m\u001b[90mGenericSchur\u001b[39m\n",
      "   1240.4 ms\u001b[32m  ✓ \u001b[39m\u001b[90mDocStringExtensions\u001b[39m\n",
      "   1072.2 ms\u001b[32m  ✓ \u001b[39m\u001b[90mExceptionUnwrapping\u001b[39m\n",
      "   1199.3 ms\u001b[32m  ✓ \u001b[39m\u001b[90mOpenSSL_jll\u001b[39m\n",
      "   1102.9 ms\u001b[32m  ✓ \u001b[39m\u001b[90mLibmount_jll\u001b[39m\n",
      "   1199.3 ms\u001b[32m  ✓ \u001b[39m\u001b[90mGraphite2_jll\u001b[39m\n",
      "   1075.6 ms\u001b[32m  ✓ \u001b[39m\u001b[90mEpollShim_jll\u001b[39m\n",
      "   1406.6 ms\u001b[32m  ✓ \u001b[39m\u001b[90mLLVMOpenMP_jll\u001b[39m\n",
      "   1280.7 ms\u001b[32m  ✓ \u001b[39m\u001b[90mBzip2_jll\u001b[39m\n",
      "   1373.3 ms\u001b[32m  ✓ \u001b[39m\u001b[90mRmath_jll\u001b[39m\n",
      "   1267.4 ms\u001b[32m  ✓ \u001b[39m\u001b[90mXorg_libICE_jll\u001b[39m\n",
      "   1316.6 ms\u001b[32m  ✓ \u001b[39m\u001b[90mXorg_libXau_jll\u001b[39m\n",
      "   3239.2 ms\u001b[32m  ✓ \u001b[39m\u001b[90mUnicodeFun\u001b[39m\n",
      "   1250.5 ms\u001b[32m  ✓ \u001b[39m\u001b[90mlibpng_jll\u001b[39m\n",
      "   1169.0 ms\u001b[32m  ✓ \u001b[39m\u001b[90mlibfdk_aac_jll\u001b[39m\n",
      "   1313.9 ms\u001b[32m  ✓ \u001b[39m\u001b[90mLAME_jll\u001b[39m\n",
      "   1066.9 ms\u001b[32m  ✓ \u001b[39m\u001b[90mfzf_jll\u001b[39m\n",
      "   1318.1 ms\u001b[32m  ✓ \u001b[39m\u001b[90mLERC_jll\u001b[39m\n",
      "   1335.5 ms\u001b[32m  ✓ \u001b[39m\u001b[90mJpegTurbo_jll\u001b[39m\n",
      "   1412.8 ms\u001b[32m  ✓ \u001b[39m\u001b[90mXZ_jll\u001b[39m\n",
      "   1191.6 ms\u001b[32m  ✓ \u001b[39m\u001b[90mOgg_jll\u001b[39m\n",
      "   1120.1 ms\u001b[32m  ✓ \u001b[39m\u001b[90mmtdev_jll\u001b[39m\n",
      "   1186.2 ms\u001b[32m  ✓ \u001b[39m\u001b[90mgperf_jll\u001b[39m\n",
      "   1404.0 ms\u001b[32m  ✓ \u001b[39m\u001b[90moneTBB_jll\u001b[39m\n",
      "   1301.6 ms\u001b[32m  ✓ \u001b[39m\u001b[90mXorg_libXdmcp_jll\u001b[39m\n",
      "   1187.9 ms\u001b[32m  ✓ \u001b[39m\u001b[90mx265_jll\u001b[39m\n",
      "   1176.0 ms\u001b[32m  ✓ \u001b[39m\u001b[90mx264_jll\u001b[39m\n",
      "   1338.7 ms\u001b[32m  ✓ \u001b[39m\u001b[90mlibaom_jll\u001b[39m\n",
      "   1285.6 ms\u001b[32m  ✓ \u001b[39m\u001b[90mZstd_jll\u001b[39m\n",
      "   1236.9 ms\u001b[32m  ✓ \u001b[39m\u001b[90mExpat_jll\u001b[39m\n",
      "   1168.5 ms\u001b[32m  ✓ \u001b[39m\u001b[90mLZO_jll\u001b[39m\n",
      "   1107.1 ms\u001b[32m  ✓ \u001b[39m\u001b[90mXorg_xtrans_jll\u001b[39m\n",
      "   1355.8 ms\u001b[32m  ✓ \u001b[39m\u001b[90mOpus_jll\u001b[39m\n",
      "   1261.7 ms\u001b[32m  ✓ \u001b[39m\u001b[90mLibiconv_jll\u001b[39m\n",
      "   1459.0 ms\u001b[32m  ✓ \u001b[39m\u001b[90mlibevdev_jll\u001b[39m\n",
      "   1292.0 ms\u001b[32m  ✓ \u001b[39m\u001b[90mLibffi_jll\u001b[39m\n",
      "   1342.3 ms\u001b[32m  ✓ \u001b[39m\u001b[90mLibgpg_error_jll\u001b[39m\n",
      "   1319.7 ms\u001b[32m  ✓ \u001b[39m\u001b[90mWayland_protocols_jll\u001b[39m\n",
      "   1578.2 ms\u001b[32m  ✓ \u001b[39m\u001b[90mFFTW_jll\u001b[39m\n",
      "   1155.8 ms\u001b[32m  ✓ \u001b[39m\u001b[90mXorg_libpthread_stubs_jll\u001b[39m\n",
      "   1466.6 ms\u001b[32m  ✓ \u001b[39m\u001b[90mOpenSpecFun_jll\u001b[39m\n",
      "   3462.1 ms\u001b[32m  ✓ \u001b[39m\u001b[90mSundials_jll\u001b[39m\n",
      "   1389.5 ms\u001b[32m  ✓ \u001b[39m\u001b[90mFriBidi_jll\u001b[39m\n",
      "   1435.9 ms\u001b[32m  ✓ \u001b[39m\u001b[90mLibuuid_jll\u001b[39m\n",
      "   1784.9 ms\u001b[32m  ✓ \u001b[39m\u001b[90mTableTraits\u001b[39m\n",
      "   1834.2 ms\u001b[32m  ✓ \u001b[39m\u001b[90mRuntimeGeneratedFunctions\u001b[39m\n",
      "   2674.1 ms\u001b[32m  ✓ \u001b[39m\u001b[90mIntelOpenMP_jll\u001b[39m\n",
      "    863.3 ms\u001b[32m  ✓ \u001b[39m\u001b[90mFunctionWrappersWrappers\u001b[39m\n",
      "   3592.3 ms\u001b[32m  ✓ \u001b[39m\u001b[90mRecipesBase\u001b[39m\n",
      "   1142.4 ms\u001b[32m  ✓ \u001b[39m\u001b[90mInverseFunctions → InverseFunctionsTestExt\u001b[39m\n",
      "    865.5 ms\u001b[32m  ✓ \u001b[39m\u001b[90mInverseFunctions → InverseFunctionsDatesExt\u001b[39m\n",
      "   4210.8 ms\u001b[32m  ✓ \u001b[39m\u001b[90mAlmostBlockDiagonals\u001b[39m\n",
      "   2908.5 ms\u001b[32m  ✓ \u001b[39m\u001b[90mDifferentiationInterface\u001b[39m\n",
      "   4551.7 ms\u001b[32m  ✓ \u001b[39m\u001b[90mAbstractFFTs → AbstractFFTsTestExt\u001b[39m\n",
      "  15303.5 ms\u001b[32m  ✓ \u001b[39m\u001b[90mKrylov\u001b[39m\n",
      "   1678.4 ms\u001b[32m  ✓ \u001b[39m\u001b[90mStatistics → SparseArraysExt\u001b[39m\n",
      "   2182.2 ms\u001b[32m  ✓ \u001b[39m\u001b[90mDistances\u001b[39m\n",
      "    912.2 ms\u001b[32m  ✓ \u001b[39m\u001b[90mFillArrays → FillArraysStatisticsExt\u001b[39m\n",
      "   5965.5 ms\u001b[32m  ✓ \u001b[39m\u001b[90mTimerOutputs\u001b[39m\n",
      "   2569.2 ms\u001b[32m  ✓ \u001b[39m\u001b[90mThreadingUtilities\u001b[39m\n",
      "   1305.3 ms\u001b[32m  ✓ \u001b[39m\u001b[90mParameters\u001b[39m\n",
      "   1457.7 ms\u001b[32m  ✓ \u001b[39m\u001b[90mFillArrays → FillArraysSparseArraysExt\u001b[39m\n",
      "   1147.1 ms\u001b[32m  ✓ \u001b[39m\u001b[90mShowoff\u001b[39m\n",
      "   1149.7 ms\u001b[32m  ✓ \u001b[39m\u001b[90mAdapt\u001b[39m\n",
      "    790.5 ms\u001b[32m  ✓ \u001b[39m\u001b[90mCompositionsBase → CompositionsBaseInverseFunctionsExt\u001b[39m\n",
      "   1077.4 ms\u001b[32m  ✓ \u001b[39m\u001b[90mAliasTables\u001b[39m\n",
      "   1037.1 ms\u001b[32m  ✓ \u001b[39m\u001b[90mCodecZlib\u001b[39m\n",
      "   1109.6 ms\u001b[32m  ✓ \u001b[39m\u001b[90mConstructionBase → ConstructionBaseLinearAlgebraExt\u001b[39m\n",
      "   2555.3 ms\u001b[32m  ✓ \u001b[39m\u001b[90mRandom123\u001b[39m\n",
      "    995.0 ms\u001b[32m  ✓ \u001b[39m\u001b[90mADTypes → ADTypesConstructionBaseExt\u001b[39m\n",
      "   1021.5 ms\u001b[32m  ✓ \u001b[39m\u001b[90mADTypes → ADTypesEnzymeCoreExt\u001b[39m\n",
      "   6635.8 ms\u001b[32m  ✓ \u001b[39m\u001b[90mFixedPointNumbers\u001b[39m\n",
      "   2530.3 ms\u001b[32m  ✓ \u001b[39m\u001b[90mStatic\u001b[39m\n",
      "   1298.7 ms\u001b[32m  ✓ \u001b[39m\u001b[90mMissings\u001b[39m\n",
      "   1246.7 ms\u001b[32m  ✓ \u001b[39m\u001b[90mDiffResults\u001b[39m\n",
      "   1252.5 ms\u001b[32m  ✓ \u001b[39m\u001b[90mCommonSubexpressions\u001b[39m\n",
      "   1139.5 ms\u001b[32m  ✓ \u001b[39m\u001b[90mTruncatedStacktraces\u001b[39m\n",
      "   1071.7 ms\u001b[32m  ✓ \u001b[39m\u001b[90mRelocatableFolders\u001b[39m\n",
      "   5009.2 ms\u001b[32m  ✓ \u001b[39m\u001b[90mJieko\u001b[39m\n",
      "    901.6 ms\u001b[32m  ✓ \u001b[39m\u001b[90mCompat → CompatLinearAlgebraExt\u001b[39m\n",
      "   2096.8 ms\u001b[32m  ✓ \u001b[39m\u001b[90mSimpleTraits\u001b[39m\n",
      "   2321.6 ms\u001b[32m  ✓ \u001b[39m\u001b[90mPDMats\u001b[39m\n",
      "   1534.5 ms\u001b[32m  ✓ \u001b[39m\u001b[90mLogExpFunctions\u001b[39m\n",
      "   1488.8 ms\u001b[32m  ✓ \u001b[39m\u001b[90mPixman_jll\u001b[39m\n",
      "   1680.0 ms\u001b[32m  ✓ \u001b[39m\u001b[90mFreeType2_jll\u001b[39m\n",
      "   1864.2 ms\u001b[32m  ✓ \u001b[39m\u001b[90mRmath\u001b[39m\n",
      "   1450.9 ms\u001b[32m  ✓ \u001b[39m\u001b[90mXorg_libSM_jll\u001b[39m\n",
      "   1576.2 ms\u001b[32m  ✓ \u001b[39m\u001b[90mlibvorbis_jll\u001b[39m\n",
      "   1447.8 ms\u001b[32m  ✓ \u001b[39m\u001b[90meudev_jll\u001b[39m\n",
      "   1554.4 ms\u001b[32m  ✓ \u001b[39m\u001b[90mLibtiff_jll\u001b[39m\n",
      "   2865.8 ms\u001b[32m  ✓ \u001b[39m\u001b[90mJLFzf\u001b[39m\n",
      "   1684.0 ms\u001b[32m  ✓ \u001b[39m\u001b[90mDbus_jll\u001b[39m\n",
      "   5539.6 ms\u001b[32m  ✓ \u001b[39m\u001b[90mOpenSSL\u001b[39m\n",
      "   1895.5 ms\u001b[32m  ✓ \u001b[39m\u001b[90mXML2_jll\u001b[39m\n",
      "   7754.3 ms\u001b[32m  ✓ \u001b[39m\u001b[90mLatexify\u001b[39m\n",
      "   1958.0 ms\u001b[32m  ✓ \u001b[39m\u001b[90mLibgcrypt_jll\u001b[39m\n",
      "   2373.5 ms\u001b[32m  ✓ \u001b[39m\u001b[90mTables\u001b[39m\n",
      "   1714.5 ms\u001b[32m  ✓ \u001b[39m\u001b[90mDifferentiationInterface → DifferentiationInterfaceSparseArraysExt\u001b[39m\n",
      "   1409.0 ms\u001b[32m  ✓ \u001b[39m\u001b[90mDistances → DistancesSparseArraysExt\u001b[39m\n",
      "   1599.6 ms\u001b[32m  ✓ \u001b[39m\u001b[90mAdapt → AdaptSparseArraysExt\u001b[39m\n",
      "   1157.1 ms\u001b[32m  ✓ \u001b[39m\u001b[90mArrayInterface\u001b[39m\n",
      "   3065.4 ms\u001b[32m  ✓ \u001b[39m\u001b[90mMKL_jll\u001b[39m\n",
      "    955.0 ms\u001b[32m  ✓ \u001b[39m\u001b[90mEnzymeCore → AdaptExt\u001b[39m\n",
      "   1388.4 ms\u001b[32m  ✓ \u001b[39m\u001b[90mGPUArraysCore\u001b[39m\n",
      "    959.2 ms\u001b[32m  ✓ \u001b[39m\u001b[90mBitTwiddlingConvenienceFunctions\u001b[39m\n",
      "   3315.7 ms\u001b[32m  ✓ \u001b[39m\u001b[90mSetfield\u001b[39m\n",
      "   3038.5 ms\u001b[32m  ✓ \u001b[39m\u001b[90mCPUSummary\u001b[39m\n",
      "   3852.3 ms\u001b[32m  ✓ \u001b[39m\u001b[90mColorTypes\u001b[39m\n",
      "   1979.5 ms\u001b[32m  ✓ \u001b[39m\u001b[90mFunctors\u001b[39m\n",
      "   6256.2 ms\u001b[32m  ✓ \u001b[39m\u001b[90mAccessors\u001b[39m\n",
      "   1551.4 ms\u001b[32m  ✓ \u001b[39m\u001b[90mLogExpFunctions → LogExpFunctionsInverseFunctionsExt\u001b[39m\n",
      "   4859.5 ms\u001b[32m  ✓ \u001b[39m\u001b[90mChainRulesCore\u001b[39m\n",
      "   2665.7 ms\u001b[32m  ✓ \u001b[39m\u001b[90mFillArrays → FillArraysPDMatsExt\u001b[39m\n",
      "  11137.6 ms\u001b[32m  ✓ \u001b[39m\u001b[90mSparseConnectivityTracer\u001b[39m\n",
      "   6058.2 ms\u001b[32m  ✓ \u001b[39m\u001b[90mDataStructures\u001b[39m\n",
      "  20004.5 ms\u001b[32m  ✓ \u001b[39m\u001b[90mStaticArrays\u001b[39m\n",
      "   1548.9 ms\u001b[32m  ✓ \u001b[39m\u001b[90mlibinput_jll\u001b[39m\n",
      "   1960.6 ms\u001b[32m  ✓ \u001b[39m\u001b[90mFontconfig_jll\u001b[39m\n",
      "   1486.6 ms\u001b[32m  ✓ \u001b[39m\u001b[90mGettext_jll\u001b[39m\n",
      "   2407.5 ms\u001b[32m  ✓ \u001b[39m\u001b[90mWayland_jll\u001b[39m\n",
      "   2036.2 ms\u001b[32m  ✓ \u001b[39m\u001b[90mXSLT_jll\u001b[39m\n",
      "   2323.8 ms\u001b[32m  ✓ \u001b[39m\u001b[90mLatexify → SparseArraysExt\u001b[39m\n",
      "    878.6 ms\u001b[32m  ✓ \u001b[39m\u001b[90mArrayInterface → ArrayInterfaceStaticArraysCoreExt\u001b[39m\n",
      "   2211.3 ms\u001b[32m  ✓ \u001b[39m\u001b[90mMaybeInplace\u001b[39m\n",
      "   1698.4 ms\u001b[32m  ✓ \u001b[39m\u001b[90mArrayInterface → ArrayInterfaceSparseArraysExt\u001b[39m\n",
      "   4209.8 ms\u001b[32m  ✓ \u001b[39m\u001b[90mStaticArrayInterface\u001b[39m\n",
      "   1418.3 ms\u001b[32m  ✓ \u001b[39m\u001b[90mSciMLStructures\u001b[39m\n",
      "   1462.6 ms\u001b[32m  ✓ \u001b[39m\u001b[90mArrayInterface → ArrayInterfaceGPUArraysCoreExt\u001b[39m\n",
      "   8325.2 ms\u001b[32m  ✓ \u001b[39m\u001b[90mSpecialFunctions\u001b[39m\n",
      "   2011.6 ms\u001b[32m  ✓ \u001b[39m\u001b[90mPolyesterWeave\u001b[39m\n",
      "   1829.9 ms\u001b[32m  ✓ \u001b[39m\u001b[90mColorTypes → StyledStringsExt\u001b[39m\n",
      "   1429.1 ms\u001b[32m  ✓ \u001b[39m\u001b[90mAccessors → LinearAlgebraExt\u001b[39m\n",
      "   2010.4 ms\u001b[32m  ✓ \u001b[39m\u001b[90mAccessors → TestExt\u001b[39m\n",
      "   2098.0 ms\u001b[32m  ✓ \u001b[39m\u001b[90mChainRulesCore → ChainRulesCoreSparseArraysExt\u001b[39m\n",
      "   1787.5 ms\u001b[32m  ✓ \u001b[39m\u001b[90mAbstractFFTs → AbstractFFTsChainRulesCoreExt\u001b[39m\n",
      "  51336.8 ms\u001b[32m  ✓ \u001b[39m\u001b[90mUnitful\u001b[39m\n",
      "   1449.1 ms\u001b[32m  ✓ \u001b[39m\u001b[90mADTypes → ADTypesChainRulesCoreExt\u001b[39m\n",
      "   7271.1 ms\u001b[32m  ✓ \u001b[39m\u001b[90mColorVectorSpace\u001b[39m\n",
      "   1178.2 ms\u001b[32m  ✓ \u001b[39m\u001b[90mDifferentiationInterface → DifferentiationInterfaceChainRulesCoreExt\u001b[39m\n",
      "   1121.0 ms\u001b[32m  ✓ \u001b[39m\u001b[90mDistances → DistancesChainRulesCoreExt\u001b[39m\n",
      "   1179.5 ms\u001b[32m  ✓ \u001b[39m\u001b[90mArrayInterface → ArrayInterfaceChainRulesCoreExt\u001b[39m\n",
      "  38487.3 ms\u001b[32m  ✓ \u001b[39m\u001b[90mArrayLayouts\u001b[39m\n",
      "   1514.8 ms\u001b[32m  ✓ \u001b[39m\u001b[90mSortingAlgorithms\u001b[39m\n",
      "   2661.0 ms\u001b[32m  ✓ \u001b[39m\u001b[90mSparseConnectivityTracer → SparseConnectivityTracerNaNMathExt\u001b[39m\n",
      "   3583.7 ms\u001b[32m  ✓ \u001b[39m\u001b[90mLogExpFunctions → LogExpFunctionsChainRulesCoreExt\u001b[39m\n",
      "   2577.5 ms\u001b[32m  ✓ \u001b[39m\u001b[90mSparseConnectivityTracer → SparseConnectivityTracerLogExpFunctionsExt\u001b[39m\n",
      "   1667.5 ms\u001b[32m  ✓ \u001b[39m\u001b[90mStaticArrays → StaticArraysChainRulesCoreExt\u001b[39m\n",
      "   3696.8 ms\u001b[32m  ✓ \u001b[39m\u001b[90mQuadGK\u001b[39m\n",
      "   2084.5 ms\u001b[32m  ✓ \u001b[39m\u001b[90mResettableStacks\u001b[39m\n",
      "   4071.4 ms\u001b[32m  ✓ \u001b[39m\u001b[90mSparseMatrixColorings\u001b[39m\n",
      "   2001.7 ms\u001b[32m  ✓ \u001b[39m\u001b[90mStaticArrays → StaticArraysStatisticsExt\u001b[39m\n",
      "   4435.1 ms\u001b[32m  ✓ \u001b[39m\u001b[90mArnoldiMethod\u001b[39m\n",
      "   2093.5 ms\u001b[32m  ✓ \u001b[39m\u001b[90mDifferentiationInterface → DifferentiationInterfaceStaticArraysExt\u001b[39m\n",
      "   2690.7 ms\u001b[32m  ✓ \u001b[39m\u001b[90mConstructionBase → ConstructionBaseStaticArraysExt\u001b[39m\n",
      "  29021.0 ms\u001b[32m  ✓ \u001b[39m\u001b[90mMoshi\u001b[39m\n",
      "   2572.8 ms\u001b[32m  ✓ \u001b[39m\u001b[90mAdapt → AdaptStaticArraysExt\u001b[39m\n",
      "   2752.8 ms\u001b[32m  ✓ \u001b[39m\u001b[90mAccessors → StaticArraysExt\u001b[39m\n",
      "   2009.2 ms\u001b[32m  ✓ \u001b[39m\u001b[90mFiniteDiff\u001b[39m\n",
      "  16379.4 ms\u001b[32m  ✓ \u001b[39m\u001b[90mColors\u001b[39m\n",
      "   2422.4 ms\u001b[32m  ✓ \u001b[39m\u001b[90mMaybeInplace → MaybeInplaceSparseArraysExt\u001b[39m\n",
      "   3522.9 ms\u001b[32m  ✓ \u001b[39m\u001b[90mGlib_jll\u001b[39m\n",
      "   1537.4 ms\u001b[32m  ✓ \u001b[39m\u001b[90mCloseOpenIntervals\u001b[39m\n",
      "   2694.4 ms\u001b[32m  ✓ \u001b[39m\u001b[90mStaticArrayInterface → StaticArrayInterfaceStaticArraysExt\u001b[39m\n",
      "   2164.3 ms\u001b[32m  ✓ \u001b[39m\u001b[90mLayoutPointers\u001b[39m\n",
      "   6072.6 ms\u001b[32m  ✓ \u001b[39m\u001b[90mXorg_libxcb_jll\u001b[39m\n",
      "   2469.7 ms\u001b[32m  ✓ \u001b[39m\u001b[90mLevyArea\u001b[39m\n",
      "   2382.1 ms\u001b[32m  ✓ \u001b[39m\u001b[90mDiffRules\u001b[39m\n",
      "   5143.8 ms\u001b[32m  ✓ \u001b[39m\u001b[90mFastGaussQuadrature\u001b[39m\n",
      "   3794.6 ms\u001b[32m  ✓ \u001b[39m\u001b[90mHypergeometricFunctions\u001b[39m\n",
      "   5957.2 ms\u001b[32m  ✓ \u001b[39m\u001b[90mSpecialFunctions → SpecialFunctionsChainRulesCoreExt\u001b[39m\n",
      "   1634.7 ms\u001b[32m  ✓ \u001b[39m\u001b[90mUnitful → InverseFunctionsUnitfulExt\u001b[39m\n",
      "   3964.8 ms\u001b[32m  ✓ \u001b[39m\u001b[90mSparseConnectivityTracer → SparseConnectivityTracerSpecialFunctionsExt\u001b[39m\n",
      "   1903.7 ms\u001b[32m  ✓ \u001b[39m\u001b[90mUnitful → ConstructionBaseUnitfulExt\u001b[39m\n",
      "  26490.6 ms\u001b[32m  ✓ \u001b[39mFFTW\n",
      "   4663.1 ms\u001b[32m  ✓ \u001b[39m\u001b[90mSciMLOperators\u001b[39m\n",
      "   3907.8 ms\u001b[32m  ✓ \u001b[39m\u001b[90mSymbolicIndexingInterface\u001b[39m\n",
      "   1584.8 ms\u001b[32m  ✓ \u001b[39m\u001b[90mAccessors → UnitfulExt\u001b[39m\n",
      "   1661.0 ms\u001b[32m  ✓ \u001b[39m\u001b[90mColorVectorSpace → SpecialFunctionsExt\u001b[39m\n",
      "   1842.0 ms\u001b[32m  ✓ \u001b[39m\u001b[90mArrayLayouts → ArrayLayoutsSparseArraysExt\u001b[39m\n",
      "   1373.6 ms\u001b[32m  ✓ \u001b[39m\u001b[90mFiniteDiff → FiniteDiffSparseArraysExt\u001b[39m\n",
      "   1897.8 ms\u001b[32m  ✓ \u001b[39m\u001b[90mDifferentiationInterface → DifferentiationInterfaceSparseMatrixColoringsExt\u001b[39m\n",
      "   4456.4 ms\u001b[32m  ✓ \u001b[39m\u001b[90mUnitfulLatexify\u001b[39m\n",
      "   3143.7 ms\u001b[32m  ✓ \u001b[39m\u001b[90mMatrixFactorizations\u001b[39m\n",
      "   1167.5 ms\u001b[32m  ✓ \u001b[39m\u001b[90mDifferentiationInterface → DifferentiationInterfaceFiniteDiffExt\u001b[39m\n",
      "   1454.4 ms\u001b[32m  ✓ \u001b[39m\u001b[90mFiniteDiff → FiniteDiffStaticArraysExt\u001b[39m\n",
      "   2020.0 ms\u001b[32m  ✓ \u001b[39m\u001b[90mSparseMatrixColorings → SparseMatrixColoringsColorsExt\u001b[39m\n",
      "   1374.6 ms\u001b[32m  ✓ \u001b[39m\u001b[90mXorg_xcb_util_jll\u001b[39m\n",
      "   5627.5 ms\u001b[32m  ✓ \u001b[39m\u001b[90mStatsBase\u001b[39m\n",
      "   2197.2 ms\u001b[32m  ✓ \u001b[39m\u001b[90mStrideArraysCore\u001b[39m\n",
      "   1654.0 ms\u001b[32m  ✓ \u001b[39m\u001b[90mXorg_libX11_jll\u001b[39m\n",
      "   1198.5 ms\u001b[32m  ✓ \u001b[39m\u001b[90mSciMLOperators → SciMLOperatorsStaticArraysCoreExt\u001b[39m\n",
      "   1665.0 ms\u001b[32m  ✓ \u001b[39m\u001b[90mSciMLOperators → SciMLOperatorsSparseArraysExt\u001b[39m\n",
      "   4588.4 ms\u001b[32m  ✓ \u001b[39m\u001b[90mStatsFuns\u001b[39m\n",
      "   9127.4 ms\u001b[32m  ✓ \u001b[39m\u001b[90mColorSchemes\u001b[39m\n",
      "   2274.1 ms\u001b[32m  ✓ \u001b[39m\u001b[90mXorg_xcb_util_image_jll\u001b[39m\n",
      "  12864.9 ms\u001b[32m  ✓ \u001b[39m\u001b[90mGraphs\u001b[39m\n",
      "   6891.6 ms\u001b[32m  ✓ \u001b[39m\u001b[90mRecursiveArrayTools\u001b[39m\n",
      "   2042.5 ms\u001b[32m  ✓ \u001b[39m\u001b[90mXorg_xcb_util_keysyms_jll\u001b[39m\n",
      "   9306.0 ms\u001b[32m  ✓ \u001b[39m\u001b[90mForwardDiff\u001b[39m\n",
      "   2181.4 ms\u001b[32m  ✓ \u001b[39m\u001b[90mXorg_xcb_util_renderutil_jll\u001b[39m\n",
      "   2213.5 ms\u001b[32m  ✓ \u001b[39m\u001b[90mXorg_xcb_util_wm_jll\u001b[39m\n",
      "   1955.4 ms\u001b[32m  ✓ \u001b[39m\u001b[90mPolyester\u001b[39m\n",
      "   2187.4 ms\u001b[32m  ✓ \u001b[39m\u001b[90mXorg_libXrender_jll\u001b[39m\n",
      "   1963.5 ms\u001b[32m  ✓ \u001b[39m\u001b[90mXorg_libXext_jll\u001b[39m\n",
      "   1829.2 ms\u001b[32m  ✓ \u001b[39m\u001b[90mXorg_libXfixes_jll\u001b[39m\n",
      "   8654.9 ms\u001b[32m  ✓ \u001b[39m\u001b[90mLazyArrays\u001b[39m\n",
      "   1744.8 ms\u001b[32m  ✓ \u001b[39m\u001b[90mStatsFuns → StatsFunsInverseFunctionsExt\u001b[39m\n",
      "   2696.5 ms\u001b[32m  ✓ \u001b[39m\u001b[90mXorg_libxkbfile_jll\u001b[39m\n",
      "   2426.9 ms\u001b[32m  ✓ \u001b[39m\u001b[90mRecursiveArrayTools → RecursiveArrayToolsSparseArraysExt\u001b[39m\n",
      "   3618.0 ms\u001b[32m  ✓ \u001b[39m\u001b[90mVertexSafeGraphs\u001b[39m\n",
      "   4421.0 ms\u001b[32m  ✓ \u001b[39m\u001b[90mStatsFuns → StatsFunsChainRulesCoreExt\u001b[39m\n",
      "   1901.4 ms\u001b[32m  ✓ \u001b[39m\u001b[90mForwardDiff → ForwardDiffStaticArraysExt\u001b[39m\n",
      "   1614.6 ms\u001b[32m  ✓ \u001b[39m\u001b[90mFastPower → FastPowerForwardDiffExt\u001b[39m\n",
      "  53940.3 ms\u001b[32m  ✓ \u001b[39m\u001b[90mHTTP\u001b[39m\n",
      "   1971.2 ms\u001b[32m  ✓ \u001b[39m\u001b[90mDifferentiationInterface → DifferentiationInterfaceForwardDiffExt\u001b[39m\n",
      "   1623.1 ms\u001b[32m  ✓ \u001b[39m\u001b[90mPreallocationTools\u001b[39m\n",
      "   1479.0 ms\u001b[32m  ✓ \u001b[39m\u001b[90mXorg_xcb_util_cursor_jll\u001b[39m\n",
      "   2032.4 ms\u001b[32m  ✓ \u001b[39m\u001b[90mRecursiveArrayTools → RecursiveArrayToolsForwardDiffExt\u001b[39m\n",
      "   2744.5 ms\u001b[32m  ✓ \u001b[39m\u001b[90mNLSolversBase\u001b[39m\n",
      "   1875.2 ms\u001b[32m  ✓ \u001b[39m\u001b[90mFastBroadcast\u001b[39m\n",
      "   1762.2 ms\u001b[32m  ✓ \u001b[39m\u001b[90mXorg_libXinerama_jll\u001b[39m\n",
      "   1654.4 ms\u001b[32m  ✓ \u001b[39m\u001b[90mXorg_libXrandr_jll\u001b[39m\n",
      "   1650.7 ms\u001b[32m  ✓ \u001b[39m\u001b[90mCairo_jll\u001b[39m\n",
      "   1432.2 ms\u001b[32m  ✓ \u001b[39m\u001b[90mXorg_libXcursor_jll\u001b[39m\n",
      "   2055.3 ms\u001b[32m  ✓ \u001b[39m\u001b[90mLibglvnd_jll\u001b[39m\n",
      "   1652.7 ms\u001b[32m  ✓ \u001b[39m\u001b[90mXorg_libXi_jll\u001b[39m\n",
      "   1455.9 ms\u001b[32m  ✓ \u001b[39m\u001b[90mXorg_xkbcomp_jll\u001b[39m\n",
      "   2770.9 ms\u001b[32m  ✓ \u001b[39m\u001b[90mLazyArrays → LazyArraysStaticArraysExt\u001b[39m\n",
      "   2116.8 ms\u001b[32m  ✓ \u001b[39m\u001b[90mPreallocationTools → PreallocationToolsSparseConnectivityTracerExt\u001b[39m\n",
      "   1521.1 ms\u001b[32m  ✓ \u001b[39m\u001b[90mRecursiveArrayTools → RecursiveArrayToolsFastBroadcastExt\u001b[39m\n",
      "   1715.9 ms\u001b[32m  ✓ \u001b[39m\u001b[90mHarfBuzz_jll\u001b[39m\n",
      "   1434.7 ms\u001b[32m  ✓ \u001b[39m\u001b[90mXorg_xkeyboard_config_jll\u001b[39m\n",
      "  16190.7 ms\u001b[32m  ✓ \u001b[39m\u001b[90mDistributions\u001b[39m\n",
      "   5716.7 ms\u001b[32m  ✓ \u001b[39m\u001b[90mSparseDiffTools\u001b[39m\n",
      "   1709.4 ms\u001b[32m  ✓ \u001b[39m\u001b[90mlibass_jll\u001b[39m\n",
      "   4722.6 ms\u001b[32m  ✓ \u001b[39m\u001b[90mLineSearches\u001b[39m\n",
      "   1789.2 ms\u001b[32m  ✓ \u001b[39m\u001b[90mPango_jll\u001b[39m\n",
      "   1589.9 ms\u001b[32m  ✓ \u001b[39m\u001b[90mxkbcommon_jll\u001b[39m\n",
      "   2906.3 ms\u001b[32m  ✓ \u001b[39m\u001b[90mDistributions → DistributionsTestExt\u001b[39m\n",
      "   2926.9 ms\u001b[32m  ✓ \u001b[39m\u001b[90mDistributions → DistributionsChainRulesCoreExt\u001b[39m\n",
      "   3313.7 ms\u001b[32m  ✓ \u001b[39m\u001b[90mFFMPEG_jll\u001b[39m\n",
      "   4107.4 ms\u001b[32m  ✓ \u001b[39m\u001b[90mSparseDiffTools → SparseDiffToolsPolyesterExt\u001b[39m\n",
      "   2492.2 ms\u001b[32m  ✓ \u001b[39m\u001b[90mVulkan_Loader_jll\u001b[39m\n",
      "   4638.5 ms\u001b[32m  ✓ \u001b[39m\u001b[90mNLsolve\u001b[39m\n",
      "   1951.6 ms\u001b[32m  ✓ \u001b[39m\u001b[90mFFMPEG\u001b[39m\n",
      "   3119.6 ms\u001b[32m  ✓ \u001b[39m\u001b[90mlibdecor_jll\u001b[39m\n",
      "   3949.6 ms\u001b[32m  ✓ \u001b[39m\u001b[90mQt6Base_jll\u001b[39m\n",
      "  24445.5 ms\u001b[32m  ✓ \u001b[39m\u001b[90mSciMLBase\u001b[39m\n",
      "   3380.5 ms\u001b[32m  ✓ \u001b[39m\u001b[90mGLFW_jll\u001b[39m\n",
      "   2651.1 ms\u001b[32m  ✓ \u001b[39m\u001b[90mSciMLBase → SciMLBaseChainRulesCoreExt\u001b[39m\n",
      "   3160.9 ms\u001b[32m  ✓ \u001b[39m\u001b[90mQt6ShaderTools_jll\u001b[39m\n",
      "   3559.8 ms\u001b[32m  ✓ \u001b[39m\u001b[90mGR_jll\u001b[39m\n",
      "  31270.0 ms\u001b[32m  ✓ \u001b[39m\u001b[90mPlotUtils\u001b[39m\n",
      "  13233.7 ms\u001b[32m  ✓ \u001b[39m\u001b[90mOptim\u001b[39m\n",
      "  51340.4 ms\u001b[32m  ✓ \u001b[39m\u001b[90mBandedMatrices\u001b[39m\n",
      "   9973.3 ms\u001b[32m  ✓ \u001b[39m\u001b[90mSciMLJacobianOperators\u001b[39m\n",
      "   7181.9 ms\u001b[32m  ✓ \u001b[39m\u001b[90mQt6Declarative_jll\u001b[39m\n",
      "   2616.0 ms\u001b[32m  ✓ \u001b[39m\u001b[90mArrayInterface → ArrayInterfaceBandedMatricesExt\u001b[39m\n",
      "   3036.8 ms\u001b[32m  ✓ \u001b[39m\u001b[90mBandedMatrices → BandedMatricesSparseArraysExt\u001b[39m\n",
      "   7814.2 ms\u001b[32m  ✓ \u001b[39m\u001b[90mPlotThemes\u001b[39m\n",
      "   3082.5 ms\u001b[32m  ✓ \u001b[39m\u001b[90mFiniteDiff → FiniteDiffBandedMatricesExt\u001b[39m\n",
      "   3578.4 ms\u001b[32m  ✓ \u001b[39m\u001b[90mMatrixFactorizations → MatrixFactorizationsBandedMatricesExt\u001b[39m\n",
      "  14851.6 ms\u001b[32m  ✓ \u001b[39m\u001b[90mDiffEqBase\u001b[39m\n",
      "   1923.8 ms\u001b[32m  ✓ \u001b[39m\u001b[90mQt6Wayland_jll\u001b[39m\n",
      "   5558.4 ms\u001b[32m  ✓ \u001b[39m\u001b[90mLazyArrays → LazyArraysBandedMatricesExt\u001b[39m\n",
      "  11506.5 ms\u001b[32m  ✓ \u001b[39m\u001b[90mRecipesPipeline\u001b[39m\n",
      "   3178.1 ms\u001b[32m  ✓ \u001b[39m\u001b[90mDiffEqBase → DiffEqBaseChainRulesCoreExt\u001b[39m\n",
      "   3492.8 ms\u001b[32m  ✓ \u001b[39m\u001b[90mDiffEqBase → DiffEqBaseForwardDiffExt\u001b[39m\n",
      "   3615.4 ms\u001b[32m  ✓ \u001b[39m\u001b[90mDiffEqBase → DiffEqBaseUnitfulExt\u001b[39m\n",
      "   3060.9 ms\u001b[32m  ✓ \u001b[39m\u001b[90mDiffEqBase → DiffEqBaseSparseArraysExt\u001b[39m\n",
      "   3971.0 ms\u001b[32m  ✓ \u001b[39m\u001b[90mDiffEqBase → DiffEqBaseDistributionsExt\u001b[39m\n",
      "  10874.8 ms\u001b[32m  ✓ \u001b[39m\u001b[90mLineSearch\u001b[39m\n",
      "   9319.0 ms\u001b[32m  ✓ \u001b[39m\u001b[90mDiffEqCallbacks\u001b[39m\n",
      "   9524.8 ms\u001b[32m  ✓ \u001b[39m\u001b[90mOrdinaryDiffEqCore\u001b[39m\n",
      "   9923.7 ms\u001b[32m  ✓ \u001b[39m\u001b[90mGR\u001b[39m\n",
      "   6919.0 ms\u001b[32m  ✓ \u001b[39m\u001b[90mJumpProcesses\u001b[39m\n",
      "  17041.4 ms\u001b[32m  ✓ \u001b[39m\u001b[90mNonlinearSolveBase\u001b[39m\n",
      "   2935.6 ms\u001b[32m  ✓ \u001b[39m\u001b[90mLineSearch → LineSearchLineSearchesExt\u001b[39m\n",
      "   3062.8 ms\u001b[32m  ✓ \u001b[39m\u001b[90mOrdinaryDiffEqCore → OrdinaryDiffEqCoreEnzymeCoreExt\u001b[39m\n",
      "   2769.9 ms\u001b[32m  ✓ \u001b[39m\u001b[90mNonlinearSolveBase → NonlinearSolveBaseSparseMatrixColoringsExt\u001b[39m\n",
      "   3835.9 ms\u001b[32m  ✓ \u001b[39m\u001b[90mNonlinearSolveBase → NonlinearSolveBaseBandedMatricesExt\u001b[39m\n",
      "   6578.2 ms\u001b[32m  ✓ \u001b[39m\u001b[90mSteadyStateDiffEq\u001b[39m\n",
      "   7823.9 ms\u001b[32m  ✓ \u001b[39m\u001b[90mDiffEqNoiseProcess\u001b[39m\n",
      "   2251.0 ms\u001b[32m  ✓ \u001b[39m\u001b[90mNonlinearSolveBase → NonlinearSolveBaseLineSearchExt\u001b[39m\n",
      "   3535.9 ms\u001b[32m  ✓ \u001b[39m\u001b[90mNonlinearSolveBase → NonlinearSolveBaseDiffEqBaseExt\u001b[39m\n",
      "   4098.5 ms\u001b[32m  ✓ \u001b[39m\u001b[90mNonlinearSolveBase → NonlinearSolveBaseSparseArraysExt\u001b[39m\n",
      "   4885.9 ms\u001b[32m  ✓ \u001b[39m\u001b[90mNonlinearSolveBase → NonlinearSolveBaseForwardDiffExt\u001b[39m\n",
      "  23535.9 ms\u001b[32m  ✓ \u001b[39m\u001b[90mFastAlmostBandedMatrices\u001b[39m\n",
      "   8108.9 ms\u001b[32m  ✓ \u001b[39m\u001b[90mOrdinaryDiffEqHighOrderRK\u001b[39m\n",
      "   8371.3 ms\u001b[32m  ✓ \u001b[39m\u001b[90mOrdinaryDiffEqExplicitRK\u001b[39m\n",
      "  44583.1 ms\u001b[32m  ✓ \u001b[39m\u001b[90mLinearSolve\u001b[39m\n",
      "   8436.1 ms\u001b[32m  ✓ \u001b[39m\u001b[90mOrdinaryDiffEqStabilizedRK\u001b[39m\n",
      "   6816.5 ms\u001b[32m  ✓ \u001b[39m\u001b[90mOrdinaryDiffEqSymplecticRK\u001b[39m\n",
      "   5326.8 ms\u001b[32m  ✓ \u001b[39m\u001b[90mOrdinaryDiffEqFunctionMap\u001b[39m\n",
      "  15351.4 ms\u001b[32m  ✓ \u001b[39m\u001b[90mBracketingNonlinearSolve\u001b[39m\n",
      "  10797.7 ms\u001b[32m  ✓ \u001b[39m\u001b[90mOrdinaryDiffEqSSPRK\u001b[39m\n",
      "  38653.7 ms\u001b[32m  ✓ \u001b[39m\u001b[90mSundials\u001b[39m\n",
      "   6503.7 ms\u001b[32m  ✓ \u001b[39m\u001b[90mOrdinaryDiffEqPRK\u001b[39m\n",
      "  12356.5 ms\u001b[32m  ✓ \u001b[39m\u001b[90mOrdinaryDiffEqLowOrderRK\u001b[39m\n",
      "   7674.6 ms\u001b[32m  ✓ \u001b[39m\u001b[90mOrdinaryDiffEqRKN\u001b[39m\n",
      "   5255.4 ms\u001b[32m  ✓ \u001b[39m\u001b[90mOrdinaryDiffEqQPRK\u001b[39m\n",
      "   6714.3 ms\u001b[32m  ✓ \u001b[39m\u001b[90mOrdinaryDiffEqFeagin\u001b[39m\n",
      "   7863.0 ms\u001b[32m  ✓ \u001b[39m\u001b[90mLinearSolve → LinearSolveFastAlmostBandedMatricesExt\u001b[39m\n",
      "  20845.6 ms\u001b[32m  ✓ \u001b[39m\u001b[90mOrdinaryDiffEqTsit5\u001b[39m\n",
      "  10196.9 ms\u001b[32m  ✓ \u001b[39m\u001b[90mOrdinaryDiffEqLowStorageRK\u001b[39m\n",
      "   6713.2 ms\u001b[32m  ✓ \u001b[39m\u001b[90mLinearSolve → LinearSolveEnzymeExt\u001b[39m\n",
      "   7092.5 ms\u001b[32m  ✓ \u001b[39m\u001b[90mLinearSolve → LinearSolveBandedMatricesExt\u001b[39m\n",
      "   3035.8 ms\u001b[32m  ✓ \u001b[39m\u001b[90mBracketingNonlinearSolve → BracketingNonlinearSolveForwardDiffExt\u001b[39m\n",
      "   5765.7 ms\u001b[32m  ✓ \u001b[39m\u001b[90mNonlinearSolveBase → NonlinearSolveBaseLinearSolveExt\u001b[39m\n",
      "   4686.0 ms\u001b[32m  ✓ \u001b[39m\u001b[90mOrdinaryDiffEqNordsieck\u001b[39m\n",
      "   5973.2 ms\u001b[32m  ✓ \u001b[39m\u001b[90mOrdinaryDiffEqAdamsBashforthMoulton\u001b[39m\n",
      "  20160.3 ms\u001b[32m  ✓ \u001b[39m\u001b[90mNonlinearSolveSpectralMethods\u001b[39m\n",
      "  11756.5 ms\u001b[32m  ✓ \u001b[39m\u001b[90mLinearSolve → LinearSolveSparseArraysExt\u001b[39m\n",
      "   2945.3 ms\u001b[32m  ✓ \u001b[39m\u001b[90mNonlinearSolveSpectralMethods → NonlinearSolveSpectralMethodsForwardDiffExt\u001b[39m\n",
      "  10262.8 ms\u001b[32m  ✓ \u001b[39m\u001b[90mOrdinaryDiffEqDifferentiation\u001b[39m\n",
      " 145985.9 ms\u001b[32m  ✓ \u001b[39m\u001b[90mExponentialUtilities\u001b[39m\n",
      "   4640.9 ms\u001b[32m  ✓ \u001b[39m\u001b[90mExponentialUtilities → ExponentialUtilitiesStaticArraysExt\u001b[39m\n",
      "  29451.3 ms\u001b[32m  ✓ \u001b[39m\u001b[90mSimpleNonlinearSolve\u001b[39m\n",
      "   3048.3 ms\u001b[32m  ✓ \u001b[39m\u001b[90mSimpleNonlinearSolve → SimpleNonlinearSolveDiffEqBaseExt\u001b[39m\n",
      "   3091.2 ms\u001b[32m  ✓ \u001b[39m\u001b[90mSimpleNonlinearSolve → SimpleNonlinearSolveChainRulesCoreExt\u001b[39m\n",
      "  15476.8 ms\u001b[32m  ✓ \u001b[39m\u001b[90mOrdinaryDiffEqExtrapolation\u001b[39m\n",
      "  32223.5 ms\u001b[32m  ✓ \u001b[39m\u001b[90mNonlinearSolveQuasiNewton\u001b[39m\n",
      "   6068.4 ms\u001b[32m  ✓ \u001b[39m\u001b[90mNonlinearSolveQuasiNewton → NonlinearSolveQuasiNewtonForwardDiffExt\u001b[39m\n",
      "  54746.9 ms\u001b[32m  ✓ \u001b[39m\u001b[90mNonlinearSolveFirstOrder\u001b[39m\n",
      "  51877.0 ms\u001b[32m  ✓ \u001b[39m\u001b[90mOrdinaryDiffEqRosenbrock\u001b[39m\n",
      "   9763.4 ms\u001b[32m  ✓ \u001b[39m\u001b[90mBoundaryValueDiffEqCore\u001b[39m\n",
      "  97517.4 ms\u001b[32m  ✓ \u001b[39m\u001b[90mOrdinaryDiffEqVerner\u001b[39m\n",
      "   4691.5 ms\u001b[32m  ✓ \u001b[39m\u001b[90mOrdinaryDiffEqLinear\u001b[39m\n",
      "  11502.0 ms\u001b[32m  ✓ \u001b[39m\u001b[90mBoundaryValueDiffEqAscher\u001b[39m\n",
      "  12997.9 ms\u001b[32m  ✓ \u001b[39m\u001b[90mBoundaryValueDiffEqShooting\u001b[39m\n",
      "  13596.5 ms\u001b[32m  ✓ \u001b[39m\u001b[90mBoundaryValueDiffEqMIRKN\u001b[39m\n",
      "  26211.2 ms\u001b[32m  ✓ \u001b[39m\u001b[90mNonlinearSolve\u001b[39m\n",
      "   8799.8 ms\u001b[32m  ✓ \u001b[39m\u001b[90mNonlinearSolve → NonlinearSolveNLsolveExt\u001b[39m\n",
      "  10142.8 ms\u001b[32m  ✓ \u001b[39m\u001b[90mNonlinearSolve → NonlinearSolveSundialsExt\u001b[39m\n",
      "  12159.3 ms\u001b[32m  ✓ \u001b[39m\u001b[90mOrdinaryDiffEqNonlinearSolve\u001b[39m\n",
      "  13187.1 ms\u001b[32m  ✓ \u001b[39m\u001b[90mOrdinaryDiffEqStabilizedIRK\u001b[39m\n",
      "  14470.1 ms\u001b[32m  ✓ \u001b[39m\u001b[90mOrdinaryDiffEqIMEXMultistep\u001b[39m\n",
      "  16794.2 ms\u001b[32m  ✓ \u001b[39m\u001b[90mOrdinaryDiffEqPDIRK\u001b[39m\n",
      "  20387.6 ms\u001b[32m  ✓ \u001b[39m\u001b[90mOrdinaryDiffEqSDIRK\u001b[39m\n",
      "  24774.2 ms\u001b[32m  ✓ \u001b[39m\u001b[90mStochasticDiffEq\u001b[39m\n",
      " 168306.1 ms\u001b[32m  ✓ \u001b[39mPlots\n",
      "  10469.2 ms\u001b[32m  ✓ \u001b[39m\u001b[90mOrdinaryDiffEqExponentialRK\u001b[39m\n",
      "   7574.2 ms\u001b[32m  ✓ \u001b[39mPlots → IJuliaExt\n",
      "   7650.4 ms\u001b[32m  ✓ \u001b[39mPlots → UnitfulExt\n",
      "  27056.7 ms\u001b[32m  ✓ \u001b[39m\u001b[90mOrdinaryDiffEqBDF\u001b[39m\n",
      "  48402.1 ms\u001b[32m  ✓ \u001b[39m\u001b[90mOrdinaryDiffEqFIRK\u001b[39m\n",
      "  37385.7 ms\u001b[32m  ✓ \u001b[39m\u001b[90mOrdinaryDiffEqDefault\u001b[39m\n",
      "  10289.4 ms\u001b[32m  ✓ \u001b[39m\u001b[90mOrdinaryDiffEq\u001b[39m\n",
      "  11503.7 ms\u001b[32m  ✓ \u001b[39m\u001b[90mDelayDiffEq\u001b[39m\n",
      " 150605.6 ms\u001b[32m  ✓ \u001b[39m\u001b[90mBoundaryValueDiffEqMIRK\u001b[39m\n",
      " 216851.3 ms\u001b[32m  ✓ \u001b[39m\u001b[90mBoundaryValueDiffEqFIRK\u001b[39m\n",
      "   8609.2 ms\u001b[32m  ✓ \u001b[39m\u001b[90mBoundaryValueDiffEq\u001b[39m\n",
      "  12257.6 ms\u001b[32m  ✓ \u001b[39mDifferentialEquations\n",
      "  415 dependencies successfully precompiled in 507 seconds. 52 already precompiled.\n"
     ]
    }
   ],
   "source": [
    "import Pkg\n",
    "Pkg.add(\"Example\")"
   ]
  },
  {
   "cell_type": "code",
   "execution_count": 32,
   "id": "277d5c2a-e7ee-4e29-866e-f2628288676b",
   "metadata": {
    "scrolled": true
   },
   "outputs": [
    {
     "name": "stderr",
     "output_type": "stream",
     "text": [
      "\u001b[32m\u001b[1m   Resolving\u001b[22m\u001b[39m package versions...\n",
      "\u001b[32m\u001b[1m   Installed\u001b[22m\u001b[39m Colors ─ v0.13.1\n",
      "\u001b[32m\u001b[1m    Updating\u001b[22m\u001b[39m `~/.julia/environments/v1.11/Project.toml`\n",
      "  \u001b[90m[5ae59095] \u001b[39m\u001b[92m+ Colors v0.13.1\u001b[39m\n",
      "\u001b[32m\u001b[1m    Updating\u001b[22m\u001b[39m `~/.julia/environments/v1.11/Manifest.toml`\n",
      "  \u001b[90m[5ae59095] \u001b[39m\u001b[93m↑ Colors v0.13.0 ⇒ v0.13.1\u001b[39m\n",
      "\u001b[92m\u001b[1mPrecompiling\u001b[22m\u001b[39m project...\n",
      "   4989.9 ms\u001b[32m  ✓ \u001b[39mColors\n",
      "    900.1 ms\u001b[32m  ✓ \u001b[39m\u001b[90mSparseMatrixColorings → SparseMatrixColoringsColorsExt\u001b[39m\n",
      "   3355.4 ms\u001b[32m  ✓ \u001b[39m\u001b[90mColorSchemes\u001b[39m\n",
      "  10230.0 ms\u001b[32m  ✓ \u001b[39m\u001b[90mPlotUtils\u001b[39m\n",
      "   3303.1 ms\u001b[32m  ✓ \u001b[39m\u001b[90mPlotThemes\u001b[39m\n",
      "   4595.5 ms\u001b[32m  ✓ \u001b[39m\u001b[90mRecipesPipeline\u001b[39m\n",
      "  65153.0 ms\u001b[32m  ✓ \u001b[39mPlots\n",
      "   4107.8 ms\u001b[32m  ✓ \u001b[39mPlots → UnitfulExt\n",
      "   5634.3 ms\u001b[32m  ✓ \u001b[39mPlots → IJuliaExt\n",
      "  9 dependencies successfully precompiled in 95 seconds. 458 already precompiled.\n"
     ]
    }
   ],
   "source": [
    "Pkg.add(\"Colors\")\n",
    "using Colors"
   ]
  },
  {
   "cell_type": "code",
   "execution_count": 33,
   "id": "a6a633af-5591-400e-803d-b186379b99d0",
   "metadata": {},
   "outputs": [
    {
     "data": {
      "image/svg+xml": [
       "<?xml version=\"1.0\" encoding=\"UTF-8\"?>\n",
       "<!DOCTYPE svg PUBLIC \"-//W3C//DTD SVG 1.1//EN\"\n",
       " \"http://www.w3.org/Graphics/SVG/1.1/DTD/svg11.dtd\">\n",
       "<svg xmlns=\"http://www.w3.org/2000/svg\" version=\"1.1\"\n",
       "     width=\"180mm\" height=\"25mm\"\n",
       "     viewBox=\"0 0 100 1\" preserveAspectRatio=\"none\"\n",
       "     shape-rendering=\"crispEdges\" stroke=\"none\">\n",
       "<rect width=\"1\" height=\".96\" x=\"0\" y=\"0\" fill=\"#000000\" />\n",
       "<rect width=\"1\" height=\".96\" x=\"1\" y=\"0\" fill=\"#FFFF74\" />\n",
       "<rect width=\"1\" height=\".96\" x=\"2\" y=\"0\" fill=\"#FF9BFF\" />\n",
       "<rect width=\"1\" height=\".96\" x=\"3\" y=\"0\" fill=\"#00D3FF\" />\n",
       "<rect width=\"1\" height=\".96\" x=\"4\" y=\"0\" fill=\"#E2630D\" />\n",
       "<rect width=\"1\" height=\".96\" x=\"5\" y=\"0\" fill=\"#007E00\" />\n",
       "<rect width=\"1\" height=\".96\" x=\"6\" y=\"0\" fill=\"#0050E6\" />\n",
       "<rect width=\"1\" height=\".96\" x=\"7\" y=\"0\" fill=\"#AC0047\" />\n",
       "<rect width=\"1\" height=\".96\" x=\"8\" y=\"0\" fill=\"#00FFC8\" />\n",
       "<rect width=\"1\" height=\".96\" x=\"9\" y=\"0\" fill=\"#006468\" />\n",
       "<rect width=\"1\" height=\".96\" x=\"10\" y=\"0\" fill=\"#FFD5C4\" />\n",
       "<rect width=\"1\" height=\".96\" x=\"11\" y=\"0\" fill=\"#6C5200\" />\n",
       "<rect width=\"1\" height=\".96\" x=\"12\" y=\"0\" fill=\"#7A7581\" />\n",
       "<rect width=\"1\" height=\".96\" x=\"13\" y=\"0\" fill=\"#44005C\" />\n",
       "<rect width=\"1\" height=\".96\" x=\"14\" y=\"0\" fill=\"#9E9E77\" />\n",
       "<rect width=\"1\" height=\".96\" x=\"15\" y=\"0\" fill=\"#FF5C78\" />\n",
       "<rect width=\"1\" height=\".96\" x=\"16\" y=\"0\" fill=\"#8197F1\" />\n",
       "<rect width=\"1\" height=\".96\" x=\"17\" y=\"0\" fill=\"#003200\" />\n",
       "<rect width=\"1\" height=\".96\" x=\"18\" y=\"0\" fill=\"#C721DD\" />\n",
       "<rect width=\"1\" height=\".96\" x=\"19\" y=\"0\" fill=\"#FFAD07\" />\n",
       "<rect width=\"1\" height=\".96\" x=\"20\" y=\"0\" fill=\"#611C00\" />\n",
       "<rect width=\"1\" height=\".96\" x=\"21\" y=\"0\" fill=\"#F3FFFA\" />\n",
       "<rect width=\"1\" height=\".96\" x=\"22\" y=\"0\" fill=\"#009E88\" />\n",
       "<rect width=\"1\" height=\".96\" x=\"23\" y=\"0\" fill=\"#5EC700\" />\n",
       "<rect width=\"1\" height=\".96\" x=\"24\" y=\"0\" fill=\"#002D54\" />\n",
       "<rect width=\"1\" height=\".96\" x=\"25\" y=\"0\" fill=\"#553C4A\" />\n",
       "<rect width=\"1\" height=\".96\" x=\"26\" y=\"0\" fill=\"#444439\" />\n",
       "<rect width=\"1\" height=\".96\" x=\"27\" y=\"0\" fill=\"#008FB6\" />\n",
       "<rect width=\"1\" height=\".96\" x=\"28\" y=\"0\" fill=\"#CFD4FD\" />\n",
       "<rect width=\"1\" height=\".96\" x=\"29\" y=\"0\" fill=\"#C40000\" />\n",
       "<rect width=\"1\" height=\".96\" x=\"30\" y=\"0\" fill=\"#A4675C\" />\n",
       "<rect width=\"1\" height=\".96\" x=\"31\" y=\"0\" fill=\"#BB8FA8\" />\n",
       "<rect width=\"1\" height=\".96\" x=\"32\" y=\"0\" fill=\"#290001\" />\n",
       "<rect width=\"1\" height=\".96\" x=\"33\" y=\"0\" fill=\"#A78600\" />\n",
       "<rect width=\"1\" height=\".96\" x=\"34\" y=\"0\" fill=\"#002D30\" />\n",
       "<rect width=\"1\" height=\".96\" x=\"35\" y=\"0\" fill=\"#C7DEAA\" />\n",
       "<rect width=\"1\" height=\".96\" x=\"36\" y=\"0\" fill=\"#8D9FA3\" />\n",
       "<rect width=\"1\" height=\".96\" x=\"37\" y=\"0\" fill=\"#6F5B95\" />\n",
       "<rect width=\"1\" height=\".96\" x=\"38\" y=\"0\" fill=\"#A1FFFF\" />\n",
       "<rect width=\"1\" height=\".96\" x=\"39\" y=\"0\" fill=\"#B39688\" />\n",
       "<rect width=\"1\" height=\".96\" x=\"40\" y=\"0\" fill=\"#4E6D50\" />\n",
       "<rect width=\"1\" height=\".96\" x=\"41\" y=\"0\" fill=\"#FF977B\" />\n",
       "<rect width=\"1\" height=\".96\" x=\"42\" y=\"0\" fill=\"#FFD1EC\" />\n",
       "<rect width=\"1\" height=\".96\" x=\"43\" y=\"0\" fill=\"#9E5100\" />\n",
       "<rect width=\"1\" height=\".96\" x=\"44\" y=\"0\" fill=\"#AE5B8E\" />\n",
       "<rect width=\"1\" height=\".96\" x=\"45\" y=\"0\" fill=\"#799400\" />\n",
       "<rect width=\"1\" height=\".96\" x=\"46\" y=\"0\" fill=\"#362200\" />\n",
       "<rect width=\"1\" height=\".96\" x=\"47\" y=\"0\" fill=\"#0E0026\" />\n",
       "<rect width=\"1\" height=\".96\" x=\"48\" y=\"0\" fill=\"#80765F\" />\n",
       "<rect width=\"1\" height=\".96\" x=\"49\" y=\"0\" fill=\"#485C00\" />\n",
       "<rect width=\"1\" height=\".96\" x=\"50\" y=\"0\" fill=\"#C8C2B5\" />\n",
       "<rect width=\"1\" height=\".96\" x=\"51\" y=\"0\" fill=\"#8800A1\" />\n",
       "<rect width=\"1\" height=\".96\" x=\"52\" y=\"0\" fill=\"#00A853\" />\n",
       "<rect width=\"1\" height=\".96\" x=\"53\" y=\"0\" fill=\"#FFE1AA\" />\n",
       "<rect width=\"1\" height=\".96\" x=\"54\" y=\"0\" fill=\"#674F42\" />\n",
       "<rect width=\"1\" height=\".96\" x=\"55\" y=\"0\" fill=\"#FF342D\" />\n",
       "<rect width=\"1\" height=\".96\" x=\"56\" y=\"0\" fill=\"#6B0041\" />\n",
       "<rect width=\"1\" height=\".96\" x=\"57\" y=\"0\" fill=\"#0806B1\" />\n",
       "<rect width=\"1\" height=\".96\" x=\"58\" y=\"0\" fill=\"#986DFF\" />\n",
       "<rect width=\"1\" height=\".96\" x=\"59\" y=\"0\" fill=\"#FF4EC7\" />\n",
       "<rect width=\"1\" height=\".96\" x=\"60\" y=\"0\" fill=\"#8AB9A2\" />\n",
       "<rect width=\"1\" height=\".96\" x=\"61\" y=\"0\" fill=\"#2EFF71\" />\n",
       "<rect width=\"1\" height=\".96\" x=\"62\" y=\"0\" fill=\"#005577\" />\n",
       "<rect width=\"1\" height=\".96\" x=\"63\" y=\"0\" fill=\"#0078E3\" />\n",
       "<rect width=\"1\" height=\".96\" x=\"64\" y=\"0\" fill=\"#B2ADB9\" />\n",
       "<rect width=\"1\" height=\".96\" x=\"65\" y=\"0\" fill=\"#00C3C6\" />\n",
       "<rect width=\"1\" height=\".96\" x=\"66\" y=\"0\" fill=\"#00AEFF\" />\n",
       "<rect width=\"1\" height=\".96\" x=\"67\" y=\"0\" fill=\"#4E545F\" />\n",
       "<rect width=\"1\" height=\".96\" x=\"68\" y=\"0\" fill=\"#FF9BB0\" />\n",
       "<rect width=\"1\" height=\".96\" x=\"69\" y=\"0\" fill=\"#FED206\" />\n",
       "<rect width=\"1\" height=\".96\" x=\"70\" y=\"0\" fill=\"#687B7A\" />\n",
       "<rect width=\"1\" height=\".96\" x=\"71\" y=\"0\" fill=\"#B1DCFC\" />\n",
       "<rect width=\"1\" height=\".96\" x=\"72\" y=\"0\" fill=\"#FFF6FF\" />\n",
       "<rect width=\"1\" height=\".96\" x=\"73\" y=\"0\" fill=\"#620019\" />\n",
       "<rect width=\"1\" height=\".96\" x=\"74\" y=\"0\" fill=\"#C79253\" />\n",
       "<rect width=\"1\" height=\".96\" x=\"75\" y=\"0\" fill=\"#A891CF\" />\n",
       "<rect width=\"1\" height=\".96\" x=\"76\" y=\"0\" fill=\"#EF007A\" />\n",
       "<rect width=\"1\" height=\".96\" x=\"77\" y=\"0\" fill=\"#B8CE00\" />\n",
       "<rect width=\"1\" height=\".96\" x=\"78\" y=\"0\" fill=\"#001700\" />\n",
       "<rect width=\"1\" height=\".96\" x=\"79\" y=\"0\" fill=\"#204B39\" />\n",
       "<rect width=\"1\" height=\".96\" x=\"80\" y=\"0\" fill=\"#875866\" />\n",
       "<rect width=\"1\" height=\".96\" x=\"81\" y=\"0\" fill=\"#B5FF4E\" />\n",
       "<rect width=\"1\" height=\".96\" x=\"82\" y=\"0\" fill=\"#B40080\" />\n",
       "<rect width=\"1\" height=\".96\" x=\"83\" y=\"0\" fill=\"#853F34\" />\n",
       "<rect width=\"1\" height=\".96\" x=\"84\" y=\"0\" fill=\"#69936B\" />\n",
       "<rect width=\"1\" height=\".96\" x=\"85\" y=\"0\" fill=\"#FFBC80\" />\n",
       "<rect width=\"1\" height=\".96\" x=\"86\" y=\"0\" fill=\"#4C3779\" />\n",
       "<rect width=\"1\" height=\".96\" x=\"87\" y=\"0\" fill=\"#323606\" />\n",
       "<rect width=\"1\" height=\".96\" x=\"88\" y=\"0\" fill=\"#008E94\" />\n",
       "<rect width=\"1\" height=\".96\" x=\"89\" y=\"0\" fill=\"#CAAC51\" />\n",
       "<rect width=\"1\" height=\".96\" x=\"90\" y=\"0\" fill=\"#787B3B\" />\n",
       "<rect width=\"1\" height=\".96\" x=\"91\" y=\"0\" fill=\"#B6F9D9\" />\n",
       "<rect width=\"1\" height=\".96\" x=\"92\" y=\"0\" fill=\"#DA003F\" />\n",
       "<rect width=\"1\" height=\".96\" x=\"93\" y=\"0\" fill=\"#2E2124\" />\n",
       "<rect width=\"1\" height=\".96\" x=\"94\" y=\"0\" fill=\"#005815\" />\n",
       "<rect width=\"1\" height=\".96\" x=\"95\" y=\"0\" fill=\"#FF8E1D\" />\n",
       "<rect width=\"1\" height=\".96\" x=\"96\" y=\"0\" fill=\"#6674B1\" />\n",
       "<rect width=\"1\" height=\".96\" x=\"97\" y=\"0\" fill=\"#00CDAD\" />\n",
       "<rect width=\"1\" height=\".96\" x=\"98\" y=\"0\" fill=\"#007F63\" />\n",
       "<rect width=\"1\" height=\".96\" x=\"99\" y=\"0\" fill=\"#996F3D\" />\n",
       "</svg>"
      ],
      "text/plain": [
       "100-element Vector{RGB{FixedPointNumbers.N0f8}}:\n",
       " RGB(0.0, 0.0, 0.0)\n",
       " RGB(1.0, 1.0, 0.455)\n",
       " RGB(1.0, 0.608, 1.0)\n",
       " RGB(0.0, 0.827, 1.0)\n",
       " RGB(0.886, 0.388, 0.051)\n",
       " RGB(0.0, 0.494, 0.0)\n",
       " RGB(0.0, 0.314, 0.902)\n",
       " RGB(0.675, 0.0, 0.278)\n",
       " RGB(0.0, 1.0, 0.784)\n",
       " RGB(0.0, 0.392, 0.408)\n",
       " RGB(1.0, 0.835, 0.769)\n",
       " RGB(0.424, 0.322, 0.0)\n",
       " RGB(0.478, 0.459, 0.506)\n",
       " ⋮\n",
       " RGB(0.0, 0.557, 0.58)\n",
       " RGB(0.792, 0.675, 0.318)\n",
       " RGB(0.471, 0.482, 0.231)\n",
       " RGB(0.714, 0.976, 0.851)\n",
       " RGB(0.855, 0.0, 0.247)\n",
       " RGB(0.18, 0.129, 0.141)\n",
       " RGB(0.0, 0.345, 0.082)\n",
       " RGB(1.0, 0.557, 0.114)\n",
       " RGB(0.4, 0.455, 0.694)\n",
       " RGB(0.0, 0.804, 0.678)\n",
       " RGB(0.0, 0.498, 0.388)\n",
       " RGB(0.6, 0.435, 0.239)"
      ]
     },
     "execution_count": 33,
     "metadata": {},
     "output_type": "execute_result"
    }
   ],
   "source": [
    "palette = distinguishable_colors(100)"
   ]
  },
  {
   "cell_type": "code",
   "execution_count": 34,
   "id": "5d9fdbb0-21bf-4383-bce0-ca2e4578d1f3",
   "metadata": {},
   "outputs": [
    {
     "data": {
      "image/svg+xml": [
       "<?xml version=\"1.0\" encoding=\"UTF-8\"?>\n",
       "<!DOCTYPE svg PUBLIC \"-//W3C//DTD SVG 1.1//EN\"\n",
       " \"http://www.w3.org/Graphics/SVG/1.1/DTD/svg11.dtd\">\n",
       "<svg xmlns=\"http://www.w3.org/2000/svg\" version=\"1.1\"\n",
       "     width=\"75mm\" height=\"75mm\"\n",
       "     viewBox=\"0 0 3 3\" preserveAspectRatio=\"none\"\n",
       "     shape-rendering=\"crispEdges\" stroke=\"none\">\n",
       "<rect width=\".96\" height=\".96\" x=\"0\" y=\"0\" fill=\"#FFFF74\" />\n",
       "<rect width=\".96\" height=\".96\" x=\"1\" y=\"0\" fill=\"#B1DCFC\" />\n",
       "<rect width=\".96\" height=\".96\" x=\"2\" y=\"0\" fill=\"#799400\" />\n",
       "<rect width=\".96\" height=\".96\" x=\"0\" y=\"1\" fill=\"#362200\" />\n",
       "<rect width=\".96\" height=\".96\" x=\"1\" y=\"1\" fill=\"#B40080\" />\n",
       "<rect width=\".96\" height=\".96\" x=\"2\" y=\"1\" fill=\"#A891CF\" />\n",
       "<rect width=\".96\" height=\".96\" x=\"0\" y=\"2\" fill=\"#FFE1AA\" />\n",
       "<rect width=\".96\" height=\".96\" x=\"1\" y=\"2\" fill=\"#FFFF74\" />\n",
       "<rect width=\".96\" height=\".96\" x=\"2\" y=\"2\" fill=\"#FFAD07\" />\n",
       "</svg>"
      ],
      "text/plain": [
       "3×3 Matrix{RGB{FixedPointNumbers.N0f8}}:\n",
       " RGB(1.0, 1.0, 0.455)    RGB(0.694, 0.863, 0.988)  RGB(0.475, 0.58, 0.0)\n",
       " RGB(0.212, 0.133, 0.0)  RGB(0.706, 0.0, 0.502)    RGB(0.659, 0.569, 0.812)\n",
       " RGB(1.0, 0.882, 0.667)  RGB(1.0, 1.0, 0.455)      RGB(1.0, 0.678, 0.027)"
      ]
     },
     "execution_count": 34,
     "metadata": {},
     "output_type": "execute_result"
    }
   ],
   "source": [
    "rand(palette, 3, 3)"
   ]
  },
  {
   "cell_type": "code",
   "execution_count": 36,
   "id": "21e010b0-9397-4c14-b1cf-f2db05d0520d",
   "metadata": {},
   "outputs": [
    {
     "name": "stdout",
     "output_type": "stream",
     "text": [
      "1, 1\n",
      "2, 4\n",
      "3, 9\n",
      "4, 16\n",
      "5, 25\n",
      "6, 36\n",
      "7, 49\n",
      "8, 64\n",
      "9, 81\n",
      "10, 100\n",
      "11, 121\n",
      "12, 144\n",
      "13, 169\n",
      "14, 196\n",
      "15, 225\n",
      "16, 256\n",
      "17, 289\n",
      "18, 324\n",
      "19, 361\n",
      "20, 400\n",
      "21, 441\n",
      "22, 484\n",
      "23, 529\n",
      "24, 576\n",
      "25, 625\n",
      "26, 676\n",
      "27, 729\n",
      "28, 784\n",
      "29, 841\n",
      "30, 900\n",
      "31, 961\n",
      "32, 1024\n",
      "33, 1089\n",
      "34, 1156\n",
      "35, 1225\n",
      "36, 1296\n",
      "37, 1369\n",
      "38, 1444\n",
      "39, 1521\n",
      "40, 1600\n",
      "41, 1681\n",
      "42, 1764\n",
      "43, 1849\n",
      "44, 1936\n",
      "45, 2025\n",
      "46, 2116\n",
      "47, 2209\n",
      "48, 2304\n",
      "49, 2401\n",
      "50, 2500\n",
      "51, 2601\n",
      "52, 2704\n",
      "53, 2809\n",
      "54, 2916\n",
      "55, 3025\n",
      "56, 3136\n",
      "57, 3249\n",
      "58, 3364\n",
      "59, 3481\n",
      "60, 3600\n",
      "61, 3721\n",
      "62, 3844\n",
      "63, 3969\n",
      "64, 4096\n",
      "65, 4225\n",
      "66, 4356\n",
      "67, 4489\n",
      "68, 4624\n",
      "69, 4761\n",
      "70, 4900\n",
      "71, 5041\n",
      "72, 5184\n",
      "73, 5329\n",
      "74, 5476\n",
      "75, 5625\n",
      "76, 5776\n",
      "77, 5929\n",
      "78, 6084\n",
      "79, 6241\n",
      "80, 6400\n",
      "81, 6561\n",
      "82, 6724\n",
      "83, 6889\n",
      "84, 7056\n",
      "85, 7225\n",
      "86, 7396\n",
      "87, 7569\n",
      "88, 7744\n",
      "89, 7921\n",
      "90, 8100\n",
      "91, 8281\n",
      "92, 8464\n",
      "93, 8649\n",
      "94, 8836\n",
      "95, 9025\n",
      "96, 9216\n",
      "97, 9409\n",
      "98, 9604\n",
      "99, 9801\n",
      "100, 10000\n"
     ]
    }
   ],
   "source": [
    "n = 1\n",
    "while n <= 100\n",
    "    println(n, \", \", n^2)\n",
    "    n += 1\n",
    "end"
   ]
  },
  {
   "cell_type": "code",
   "execution_count": 37,
   "id": "bd66d058-f512-4e70-8f4a-84833057e8f8",
   "metadata": {},
   "outputs": [
    {
     "name": "stdout",
     "output_type": "stream",
     "text": [
      "1, 1\n",
      "2, 4\n",
      "3, 9\n",
      "4, 16\n",
      "5, 25\n",
      "6, 36\n",
      "7, 49\n",
      "8, 64\n",
      "9, 81\n",
      "10, 100\n",
      "11, 121\n",
      "12, 144\n",
      "13, 169\n",
      "14, 196\n",
      "15, 225\n",
      "16, 256\n",
      "17, 289\n",
      "18, 324\n",
      "19, 361\n",
      "20, 400\n",
      "21, 441\n",
      "22, 484\n",
      "23, 529\n",
      "24, 576\n",
      "25, 625\n",
      "26, 676\n",
      "27, 729\n",
      "28, 784\n",
      "29, 841\n",
      "30, 900\n",
      "31, 961\n",
      "32, 1024\n",
      "33, 1089\n",
      "34, 1156\n",
      "35, 1225\n",
      "36, 1296\n",
      "37, 1369\n",
      "38, 1444\n",
      "39, 1521\n",
      "40, 1600\n",
      "41, 1681\n",
      "42, 1764\n",
      "43, 1849\n",
      "44, 1936\n",
      "45, 2025\n",
      "46, 2116\n",
      "47, 2209\n",
      "48, 2304\n",
      "49, 2401\n",
      "50, 2500\n",
      "51, 2601\n",
      "52, 2704\n",
      "53, 2809\n",
      "54, 2916\n",
      "55, 3025\n",
      "56, 3136\n",
      "57, 3249\n",
      "58, 3364\n",
      "59, 3481\n",
      "60, 3600\n",
      "61, 3721\n",
      "62, 3844\n",
      "63, 3969\n",
      "64, 4096\n",
      "65, 4225\n",
      "66, 4356\n",
      "67, 4489\n",
      "68, 4624\n",
      "69, 4761\n",
      "70, 4900\n",
      "71, 5041\n",
      "72, 5184\n",
      "73, 5329\n",
      "74, 5476\n",
      "75, 5625\n",
      "76, 5776\n",
      "77, 5929\n",
      "78, 6084\n",
      "79, 6241\n",
      "80, 6400\n",
      "81, 6561\n",
      "82, 6724\n",
      "83, 6889\n",
      "84, 7056\n",
      "85, 7225\n",
      "86, 7396\n",
      "87, 7569\n",
      "88, 7744\n",
      "89, 7921\n",
      "90, 8100\n",
      "91, 8281\n",
      "92, 8464\n",
      "93, 8649\n",
      "94, 8836\n",
      "95, 9025\n",
      "96, 9216\n",
      "97, 9409\n",
      "98, 9604\n",
      "99, 9801\n",
      "100, 10000\n"
     ]
    }
   ],
   "source": [
    "for n in 1:100\n",
    "    println(n, \", \", n^2)\n",
    "end"
   ]
  },
  {
   "cell_type": "code",
   "execution_count": 38,
   "id": "4bb5be8d-f52a-44db-947a-3837c88cd95a",
   "metadata": {},
   "outputs": [
    {
     "name": "stdout",
     "output_type": "stream",
     "text": [
      "Dict{Any, Any}(5 => 25, 56 => 3136, 35 => 1225, 55 => 3025, 60 => 3600, 30 => 900, 32 => 1024, 6 => 36, 67 => 4489, 45 => 2025, 73 => 5329, 64 => 4096, 90 => 8100, 4 => 16, 13 => 169, 54 => 2916, 63 => 3969, 86 => 7396, 91 => 8281, 62 => 3844, 58 => 3364, 52 => 2704, 12 => 144, 28 => 784, 75 => 5625, 23 => 529, 92 => 8464, 41 => 1681, 43 => 1849, 11 => 121, 36 => 1296, 68 => 4624, 69 => 4761, 98 => 9604, 82 => 6724, 85 => 7225, 39 => 1521, 84 => 7056, 77 => 5929, 7 => 49, 25 => 625, 95 => 9025, 71 => 5041, 66 => 4356, 76 => 5776, 34 => 1156, 50 => 2500, 59 => 3481, 93 => 8649, 2 => 4, 10 => 100, 18 => 324, 26 => 676, 27 => 729, 42 => 1764, 87 => 7569, 100 => 10000, 79 => 6241, 16 => 256, 20 => 400, 81 => 6561, 19 => 361, 49 => 2401, 44 => 1936, 9 => 81, 31 => 961, 74 => 5476, 61 => 3721, 29 => 841, 94 => 8836, 46 => 2116, 57 => 3249, 70 => 4900, 21 => 441, 38 => 1444, 88 => 7744, 78 => 6084, 72 => 5184, 24 => 576, 8 => 64, 17 => 289, 37 => 1369, 1 => 1, 53 => 2809, 22 => 484, 47 => 2209, 83 => 6889, 99 => 9801, 89 => 7921, 14 => 196, 3 => 9, 80 => 6400, 96 => 9216, 51 => 2601, 33 => 1089, 40 => 1600, 48 => 2304, 15 => 225, 65 => 4225, 97 => 9409)\n"
     ]
    }
   ],
   "source": [
    "squares = Dict()\n",
    "for n in 1:100\n",
    "    squares[n] = n^2\n",
    "end\n",
    "println(squares)"
   ]
  },
  {
   "cell_type": "code",
   "execution_count": 39,
   "id": "96ef95ca-6840-42c3-b03a-292fad7e8c0e",
   "metadata": {},
   "outputs": [
    {
     "name": "stdout",
     "output_type": "stream",
     "text": [
      "[1, 4, 9, 16, 25, 36, 49, 64, 81, 100, 121, 144, 169, 196, 225, 256, 289, 324, 361, 400, 441, 484, 529, 576, 625, 676, 729, 784, 841, 900, 961, 1024, 1089, 1156, 1225, 1296, 1369, 1444, 1521, 1600, 1681, 1764, 1849, 1936, 2025, 2116, 2209, 2304, 2401, 2500, 2601, 2704, 2809, 2916, 3025, 3136, 3249, 3364, 3481, 3600, 3721, 3844, 3969, 4096, 4225, 4356, 4489, 4624, 4761, 4900, 5041, 5184, 5329, 5476, 5625, 5776, 5929, 6084, 6241, 6400, 6561, 6724, 6889, 7056, 7225, 7396, 7569, 7744, 7921, 8100, 8281, 8464, 8649, 8836, 9025, 9216, 9409, 9604, 9801, 10000]\n"
     ]
    }
   ],
   "source": [
    "squares_arr = [n^2 for n in 1:100]\n",
    "println(squares_arr)"
   ]
  },
  {
   "cell_type": "code",
   "execution_count": 40,
   "id": "7a39c8e7-6b21-4022-a396-2aff88802ce5",
   "metadata": {},
   "outputs": [
    {
     "name": "stdout",
     "output_type": "stream",
     "text": [
      "Нечетное\n"
     ]
    }
   ],
   "source": [
    "n = 3\n",
    "if n % 2 == 0\n",
    "    println(n)\n",
    "else \n",
    "    println(\"Нечетное\")\n",
    "end"
   ]
  },
  {
   "cell_type": "code",
   "execution_count": 41,
   "id": "7d061aa0-9875-498d-b2ea-741906ca6f81",
   "metadata": {},
   "outputs": [
    {
     "name": "stdout",
     "output_type": "stream",
     "text": [
      "4\n"
     ]
    }
   ],
   "source": [
    "n = 4 \n",
    "println(n % 2 == 0 ? n : \"Нечетное\")"
   ]
  },
  {
   "cell_type": "code",
   "execution_count": 42,
   "id": "68152328-c952-44b0-95f1-87dcc124d98c",
   "metadata": {},
   "outputs": [
    {
     "name": "stdout",
     "output_type": "stream",
     "text": [
      "2\n"
     ]
    }
   ],
   "source": [
    "function add_one(x)\n",
    "    return x + 1\n",
    "end\n",
    "println(add_one(1))"
   ]
  },
  {
   "cell_type": "code",
   "execution_count": 43,
   "id": "1eec90ce-1a14-47f1-8d36-5e9d18e72bc7",
   "metadata": {},
   "outputs": [
    {
     "data": {
      "text/plain": [
       "3×3 Matrix{Int64}:\n",
       " 2  3  4\n",
       " 2  3  4\n",
       " 2  3  4"
      ]
     },
     "execution_count": 43,
     "metadata": {},
     "output_type": "execute_result"
    }
   ],
   "source": [
    "A = [1 2 3; 1 2 3; 1 2 3]\n",
    "B = map(x -> x + 1, A)\n",
    "B"
   ]
  },
  {
   "cell_type": "code",
   "execution_count": 44,
   "id": "1a4c37c3-0fd3-408c-9fcc-4766a3842ca8",
   "metadata": {},
   "outputs": [
    {
     "name": "stdout",
     "output_type": "stream",
     "text": [
      "[1 1 27; 125 8 216; -8 -1 -27]\n"
     ]
    }
   ],
   "source": [
    "A = [1 1 3; 5 2 6; -2 -1 -3]\n",
    "println(map(x -> x ^ 3, A))"
   ]
  },
  {
   "cell_type": "code",
   "execution_count": 45,
   "id": "365784ff-d003-4c7e-b49e-8879bf17a3a9",
   "metadata": {},
   "outputs": [
    {
     "data": {
      "text/plain": [
       "3×3 Matrix{Int64}:\n",
       "  1   1   4\n",
       "  5   2   8\n",
       " -2  -1  -4"
      ]
     },
     "execution_count": 45,
     "metadata": {},
     "output_type": "execute_result"
    }
   ],
   "source": [
    "A[:, 3] = A[:, 2] + A[:, 3]\n",
    "A"
   ]
  },
  {
   "cell_type": "code",
   "execution_count": 46,
   "id": "8cf31ce3-f29b-4be7-b1a1-e031e6f0f307",
   "metadata": {},
   "outputs": [
    {
     "data": {
      "text/plain": [
       "15×3 Matrix{Int64}:\n",
       " 10  -10  10\n",
       " 10  -10  10\n",
       " 10  -10  10\n",
       " 10  -10  10\n",
       " 10  -10  10\n",
       " 10  -10  10\n",
       " 10  -10  10\n",
       " 10  -10  10\n",
       " 10  -10  10\n",
       " 10  -10  10\n",
       " 10  -10  10\n",
       " 10  -10  10\n",
       " 10  -10  10\n",
       " 10  -10  10\n",
       " 10  -10  10"
      ]
     },
     "execution_count": 46,
     "metadata": {},
     "output_type": "execute_result"
    }
   ],
   "source": [
    "B = repeat([10 -10 10], 15, 1)"
   ]
  },
  {
   "cell_type": "code",
   "execution_count": 47,
   "id": "1629a5aa-5568-4581-8315-11bd4200501a",
   "metadata": {},
   "outputs": [
    {
     "data": {
      "text/plain": [
       "3×3 Matrix{Int64}:\n",
       "  1500  -1500   1500\n",
       " -1500   1500  -1500\n",
       "  1500  -1500   1500"
      ]
     },
     "execution_count": 47,
     "metadata": {},
     "output_type": "execute_result"
    }
   ],
   "source": [
    "C = B' * B\n",
    "C"
   ]
  },
  {
   "cell_type": "code",
   "execution_count": 48,
   "id": "57f58433-8129-42da-b5bc-50728b0320b1",
   "metadata": {},
   "outputs": [
    {
     "data": {
      "text/plain": [
       "6×6 Matrix{Int64}:\n",
       " 0  1  0  0  0  0\n",
       " 1  0  1  0  0  0\n",
       " 0  1  0  1  0  0\n",
       " 0  0  1  0  1  0\n",
       " 0  0  0  1  0  1\n",
       " 0  0  0  0  1  0"
      ]
     },
     "execution_count": 48,
     "metadata": {},
     "output_type": "execute_result"
    }
   ],
   "source": [
    "Z = zeros(Int, 6, 6)\n",
    "E = ones(Int, 6, 6)\n",
    "\n",
    "n = 6\n",
    "Z1 = copy(Z)\n",
    "for i in 1:n\n",
    "    for j in 1:n\n",
    "        if abs(i - j) == 1\n",
    "            Z1[i, j] = 1\n",
    "        end\n",
    "    end\n",
    "end\n",
    "Z1"
   ]
  },
  {
   "cell_type": "code",
   "execution_count": 49,
   "id": "e17233fb-b961-4753-8339-5a31622a2104",
   "metadata": {},
   "outputs": [
    {
     "data": {
      "text/plain": [
       "6×6 Matrix{Int64}:\n",
       " 1  0  1  0  0  0\n",
       " 0  1  0  1  0  0\n",
       " 0  0  1  0  1  0\n",
       " 0  1  0  1  0  1\n",
       " 0  0  1  0  1  0\n",
       " 0  0  0  1  0  1"
      ]
     },
     "execution_count": 49,
     "metadata": {},
     "output_type": "execute_result"
    }
   ],
   "source": [
    "Z2 = copy(Z)\n",
    "for i in 1:n\n",
    "    if i+2 < n\n",
    "        Z2[i, i] = 1\n",
    "        Z2[i, i+2] = 1\n",
    "    elseif (i == 3) || (i == 4)\n",
    "        Z2[i, i] = 1\n",
    "        Z2[i, i+2] = 1\n",
    "        Z2[i, i-2] = 1\n",
    "    else\n",
    "        Z2[i, i] = 1\n",
    "        Z2[i, i-2] = 1\n",
    "    end\n",
    "end\n",
    "Z2"
   ]
  },
  {
   "cell_type": "code",
   "execution_count": 51,
   "id": "85abf8ce-dfc7-492f-b81b-48128bd9a1fe",
   "metadata": {},
   "outputs": [
    {
     "data": {
      "text/plain": [
       "6×6 Matrix{Int64}:\n",
       " 0  1  0  1  0  1\n",
       " 1  0  1  0  1  0\n",
       " 0  1  0  1  0  1\n",
       " 1  0  1  0  1  0\n",
       " 0  1  0  1  0  1\n",
       " 1  0  1  0  1  0"
      ]
     },
     "execution_count": 51,
     "metadata": {},
     "output_type": "execute_result"
    }
   ],
   "source": [
    "Z3 = copy(Z)\n",
    "for i in 1:n\n",
    "    for j in 1:n\n",
    "        if (i+j) % 2 != 0\n",
    "            Z3[i, j] = 1\n",
    "        end\n",
    "    end\n",
    "end\n",
    "Z3"
   ]
  },
  {
   "cell_type": "code",
   "execution_count": 52,
   "id": "2ee904e4-d17c-445e-93d9-7b7e69116e64",
   "metadata": {},
   "outputs": [
    {
     "data": {
      "text/plain": [
       "6×6 Matrix{Int64}:\n",
       " 1  0  1  0  1  0\n",
       " 0  1  0  1  0  1\n",
       " 1  0  1  0  1  0\n",
       " 0  1  0  1  0  1\n",
       " 1  0  1  0  1  0\n",
       " 0  1  0  1  0  1"
      ]
     },
     "execution_count": 52,
     "metadata": {},
     "output_type": "execute_result"
    }
   ],
   "source": [
    "Z4 = copy(Z)\n",
    "for i in 1:n\n",
    "    for j in 1:n\n",
    "        if (i+j) % 2 == 0\n",
    "            Z4[i, j] = 1\n",
    "        end\n",
    "    end\n",
    "end\n",
    "Z4"
   ]
  },
  {
   "cell_type": "code",
   "execution_count": 53,
   "id": "db437aec-673f-4bbc-9d0b-3ba96ade13e8",
   "metadata": {},
   "outputs": [
    {
     "data": {
      "text/plain": [
       "outer (generic function with 1 method)"
      ]
     },
     "execution_count": 53,
     "metadata": {},
     "output_type": "execute_result"
    }
   ],
   "source": [
    "function outer(x, y, operation)\n",
    "    return [operation(i, j) for i in x, j in y]\n",
    "end"
   ]
  },
  {
   "cell_type": "code",
   "execution_count": 54,
   "id": "7af1e36c-8103-4af2-ae85-0f29fe1782ae",
   "metadata": {},
   "outputs": [
    {
     "data": {
      "text/plain": [
       "5×5 Matrix{Int64}:\n",
       " 0  1  2  3  4\n",
       " 1  2  3  4  5\n",
       " 2  3  4  5  6\n",
       " 3  4  5  6  7\n",
       " 4  5  6  7  8"
      ]
     },
     "execution_count": 54,
     "metadata": {},
     "output_type": "execute_result"
    }
   ],
   "source": [
    "A1 = outer(0:4, 0:4, +)"
   ]
  },
  {
   "cell_type": "code",
   "execution_count": 55,
   "id": "f4eccecb-900c-4664-a082-8ccb26078cf1",
   "metadata": {},
   "outputs": [
    {
     "data": {
      "text/plain": [
       "5×5 Matrix{Int64}:\n",
       " 0   0   0    0     0\n",
       " 1   1   1    1     1\n",
       " 2   4   8   16    32\n",
       " 3   9  27   81   243\n",
       " 4  16  64  256  1024"
      ]
     },
     "execution_count": 55,
     "metadata": {},
     "output_type": "execute_result"
    }
   ],
   "source": [
    "A2 = outer(0:4, 1:5, ^)\n",
    "A2"
   ]
  },
  {
   "cell_type": "code",
   "execution_count": 56,
   "id": "c2a33005-cef2-44a5-b16b-8e6f0e08ab55",
   "metadata": {},
   "outputs": [
    {
     "data": {
      "text/plain": [
       "5×5 Matrix{Int64}:\n",
       " 0  1  2  3  4\n",
       " 1  2  3  4  0\n",
       " 2  3  4  0  1\n",
       " 3  4  0  1  2\n",
       " 4  0  1  2  3"
      ]
     },
     "execution_count": 56,
     "metadata": {},
     "output_type": "execute_result"
    }
   ],
   "source": [
    "A3 = outer(0:4, 0:4, (x, y) -> mod(x+y, 5))\n",
    "A3"
   ]
  },
  {
   "cell_type": "code",
   "execution_count": 57,
   "id": "a13fd58d-1573-4add-b40e-5896f65085dc",
   "metadata": {},
   "outputs": [
    {
     "data": {
      "text/plain": [
       "10×10 Matrix{Int64}:\n",
       " 0  1  2  3  4  5  6  7  8  9\n",
       " 1  2  3  4  5  6  7  8  9  0\n",
       " 2  3  4  5  6  7  8  9  0  1\n",
       " 3  4  5  6  7  8  9  0  1  2\n",
       " 4  5  6  7  8  9  0  1  2  3\n",
       " 5  6  7  8  9  0  1  2  3  4\n",
       " 6  7  8  9  0  1  2  3  4  5\n",
       " 7  8  9  0  1  2  3  4  5  6\n",
       " 8  9  0  1  2  3  4  5  6  7\n",
       " 9  0  1  2  3  4  5  6  7  8"
      ]
     },
     "execution_count": 57,
     "metadata": {},
     "output_type": "execute_result"
    }
   ],
   "source": [
    "A4 = outer(0:9, 0:9, (x, y) -> mod(x+y, 10))\n",
    "A4"
   ]
  },
  {
   "cell_type": "code",
   "execution_count": 58,
   "id": "64790a2f-2ff6-4877-a7f9-9c30808a39f0",
   "metadata": {},
   "outputs": [
    {
     "data": {
      "text/plain": [
       "9×9 Matrix{Int64}:\n",
       " 0  8  7  6  5  4  3  2  1\n",
       " 1  0  8  7  6  5  4  3  2\n",
       " 2  1  0  8  7  6  5  4  3\n",
       " 3  2  1  0  8  7  6  5  4\n",
       " 4  3  2  1  0  8  7  6  5\n",
       " 5  4  3  2  1  0  8  7  6\n",
       " 6  5  4  3  2  1  0  8  7\n",
       " 7  6  5  4  3  2  1  0  8\n",
       " 8  7  6  5  4  3  2  1  0"
      ]
     },
     "execution_count": 58,
     "metadata": {},
     "output_type": "execute_result"
    }
   ],
   "source": [
    "A5 = outer(0:8, 0:8, (x, y) -> mod(x-y, 9))\n",
    "A5"
   ]
  },
  {
   "cell_type": "code",
   "execution_count": 69,
   "id": "503c16bd-9f42-4871-b130-8ce4d529cdde",
   "metadata": {},
   "outputs": [
    {
     "data": {
      "text/plain": [
       "5-element Vector{Float64}:\n",
       " -2.0000000000000036\n",
       "  3.0000000000000058\n",
       "  4.999999999999998\n",
       "  1.9999999999999991\n",
       " -3.999999999999999"
      ]
     },
     "execution_count": 69,
     "metadata": {},
     "output_type": "execute_result"
    }
   ],
   "source": [
    "A = [\n",
    "    1 2 3 4 5;\n",
    "    2 1 2 3 4;\n",
    "    3 2 1 2 3;\n",
    "    4 3 2 1 2;\n",
    "    5 4 3 2 1;\n",
    "]\n",
    "b = [7; -1; -3; 5; 17]\n",
    "\n",
    "x = A \\ b\n",
    "x"
   ]
  },
  {
   "cell_type": "code",
   "execution_count": 70,
   "id": "ee5c0129-ff65-4fba-9fee-3ceb1537f654",
   "metadata": {},
   "outputs": [
    {
     "data": {
      "text/plain": [
       "6×10 Matrix{Int64}:\n",
       " 8  9   5  1  5   4   2  10  9  2\n",
       " 8  8   9  5  1   8  10   3  5  1\n",
       " 2  9   8  1  7  10   8   9  9  9\n",
       " 5  9  10  2  1   6   4   3  8  4\n",
       " 9  8   9  6  7   1   7   1  7  4\n",
       " 7  6   8  8  8   1   7   7  4  8"
      ]
     },
     "execution_count": 70,
     "metadata": {},
     "output_type": "execute_result"
    }
   ],
   "source": [
    "M = rand(1:10, 6, 10)\n",
    "M\n"
   ]
  },
  {
   "cell_type": "code",
   "execution_count": 71,
   "id": "6fb066f2-7570-4757-9520-fc199a90ac13",
   "metadata": {},
   "outputs": [
    {
     "data": {
      "text/plain": [
       "41"
      ]
     },
     "execution_count": 71,
     "metadata": {},
     "output_type": "execute_result"
    }
   ],
   "source": [
    "N = 4\n",
    "greater_than_N = sum(M .> N)\n",
    "greater_than_N"
   ]
  },
  {
   "cell_type": "code",
   "execution_count": 72,
   "id": "f466c738-4503-4545-b2c7-000544e9d971",
   "metadata": {},
   "outputs": [
    {
     "data": {
      "text/plain": [
       "Int64[]"
      ]
     },
     "execution_count": 72,
     "metadata": {},
     "output_type": "execute_result"
    }
   ],
   "source": [
    "twice = [i for i=1:6 if sum(M[i, :].==7)==2]\n",
    "twice"
   ]
  },
  {
   "cell_type": "code",
   "execution_count": 73,
   "id": "5b71d763-acc7-44e9-b1f4-19730b3587b7",
   "metadata": {},
   "outputs": [
    {
     "data": {
      "text/plain": [
       "18-element Vector{Any}:\n",
       " (1, 2)\n",
       " (1, 3)\n",
       " (1, 7)\n",
       " (1, 9)\n",
       " (2, 3)\n",
       " (2, 5)\n",
       " (2, 6)\n",
       " (2, 7)\n",
       " (2, 8)\n",
       " (2, 9)\n",
       " (2, 10)\n",
       " (3, 5)\n",
       " (3, 6)\n",
       " (3, 7)\n",
       " (3, 8)\n",
       " (3, 9)\n",
       " (3, 10)\n",
       " (7, 9)"
      ]
     },
     "execution_count": 73,
     "metadata": {},
     "output_type": "execute_result"
    }
   ],
   "source": [
    "K = 75\n",
    "pairs = []\n",
    "for i in 1:size(M, 2)-1\n",
    "    for j in i + 1:size(M, 2)\n",
    "        if sum(M[:, i] .+ M[:,j]) > K\n",
    "            push!(pairs, (i, j))\n",
    "        end\n",
    "    end\n",
    "end\n",
    "pairs"
   ]
  },
  {
   "cell_type": "code",
   "execution_count": 74,
   "id": "037cfda7-a302-4838-93b8-a6a556640e2f",
   "metadata": {},
   "outputs": [
    {
     "data": {
      "text/plain": [
       "639215.2833333334"
      ]
     },
     "execution_count": 74,
     "metadata": {},
     "output_type": "execute_result"
    }
   ],
   "source": [
    "sum1 = sum(i^4 / (3 + j) for i in 1:20 for j in 1:5)\n",
    "sum1"
   ]
  },
  {
   "cell_type": "code",
   "execution_count": 75,
   "id": "cd815fb9-f64d-4bf6-b16d-081c1ca1d122",
   "metadata": {},
   "outputs": [
    {
     "data": {
      "text/plain": [
       "89912.02146097136"
      ]
     },
     "execution_count": 75,
     "metadata": {},
     "output_type": "execute_result"
    }
   ],
   "source": [
    "sum2 = sum(i^4 / (3 + i * j) for i in 1:20 for j in 1:5)"
   ]
  },
  {
   "cell_type": "code",
   "execution_count": null,
   "id": "67d52cee-e1b7-4c79-bc62-9ba1313f8198",
   "metadata": {},
   "outputs": [],
   "source": []
  }
 ],
 "metadata": {
  "kernelspec": {
   "display_name": "Julia 1.11.3",
   "language": "julia",
   "name": "julia-1.11"
  },
  "language_info": {
   "file_extension": ".jl",
   "mimetype": "application/julia",
   "name": "julia",
   "version": "1.11.7"
  }
 },
 "nbformat": 4,
 "nbformat_minor": 5
}
